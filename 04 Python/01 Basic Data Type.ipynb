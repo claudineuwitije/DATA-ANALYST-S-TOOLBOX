{
 "cells": [
  {
   "cell_type": "markdown",
   "id": "35eefbbf",
   "metadata": {},
   "source": [
    "# BASIC DATA TYPE \n",
    "\n",
    "* String \n",
    "* Integers\n",
    "* Floats\n",
    "* Booleans "
   ]
  },
  {
   "cell_type": "markdown",
   "id": "de082387",
   "metadata": {},
   "source": [
    "# STRING"
   ]
  },
  {
   "cell_type": "code",
   "execution_count": 2,
   "id": "677aec58",
   "metadata": {},
   "outputs": [
    {
     "data": {
      "text/plain": [
       "'Mary'"
      ]
     },
     "execution_count": 2,
     "metadata": {},
     "output_type": "execute_result"
    }
   ],
   "source": [
    "# string value should marked with quotation marks (single or double quotation marks)\n",
    "\"Claudia\"\n",
    "\"1\""
   ]
  },
  {
   "cell_type": "code",
   "execution_count": 13,
   "id": "c70754c5",
   "metadata": {},
   "outputs": [
    {
     "name": "stdout",
     "output_type": "stream",
     "text": [
      "<class 'str'>\n",
      "<class 'str'>\n"
     ]
    }
   ],
   "source": [
    "print(type(\"claudia\"))\n",
    "print(type(\"1\")) # checking the type "
   ]
  },
  {
   "cell_type": "code",
   "execution_count": 7,
   "id": "189b9a6c",
   "metadata": {},
   "outputs": [
    {
     "data": {
      "text/plain": [
       "'chase \"Chaz\"'"
      ]
     },
     "execution_count": 7,
     "metadata": {},
     "output_type": "execute_result"
    }
   ],
   "source": [
    "'chase \"Chaz\"' # This is a valid python code for a string "
   ]
  },
  {
   "cell_type": "code",
   "execution_count": 12,
   "id": "02944fff",
   "metadata": {},
   "outputs": [
    {
     "ename": "SyntaxError",
     "evalue": "EOL while scanning string literal (254692850.py, line 1)",
     "output_type": "error",
     "traceback": [
      "\u001b[1;36m  Cell \u001b[1;32mIn[12], line 1\u001b[1;36m\u001b[0m\n\u001b[1;33m    \"chase 'Chaz'' # thi is a invalid code\u001b[0m\n\u001b[1;37m                                           ^\u001b[0m\n\u001b[1;31mSyntaxError\u001b[0m\u001b[1;31m:\u001b[0m EOL while scanning string literal\n"
     ]
    }
   ],
   "source": [
    "# thi is a invalid code and throw an error\n",
    "\"chase 'Chaz'' \n",
    "\"chase 'Chaz\""
   ]
  },
  {
   "cell_type": "code",
   "execution_count": 17,
   "id": "94308500",
   "metadata": {},
   "outputs": [
    {
     "data": {
      "text/plain": [
       "False"
      ]
     },
     "execution_count": 17,
     "metadata": {},
     "output_type": "execute_result"
    }
   ],
   "source": [
    "# String is also a object and makes it possible to be manipulated  \n",
    "# check for string method for their manupulation \"https://docs.python.org/3/library/stdtypes.html#text-sequence-type-str\"\n",
    "\n",
    "\"Claudia\".upper() # using upper() to change a string into upper case\n",
    "\"Claudi\".isnumeric()"
   ]
  },
  {
   "cell_type": "code",
   "execution_count": 15,
   "id": "27f922cd",
   "metadata": {},
   "outputs": [
    {
     "data": {
      "text/plain": [
       "False"
      ]
     },
     "execution_count": 15,
     "metadata": {},
     "output_type": "execute_result"
    }
   ],
   "source": [
    "\"Claudia\".isnumeric()"
   ]
  },
  {
   "cell_type": "code",
   "execution_count": 16,
   "id": "93d40ea7",
   "metadata": {},
   "outputs": [
    {
     "data": {
      "text/plain": [
       "True"
      ]
     },
     "execution_count": 16,
     "metadata": {},
     "output_type": "execute_result"
    }
   ],
   "source": [
    "\"1\".isnumeric()"
   ]
  },
  {
   "cell_type": "markdown",
   "id": "f21e6aa2",
   "metadata": {},
   "source": [
    "# INTEGERS \n",
    "\n",
    "    * Are simply whole numbers "
   ]
  },
  {
   "cell_type": "code",
   "execution_count": 3,
   "id": "4cc0ab2c",
   "metadata": {},
   "outputs": [
    {
     "data": {
      "text/plain": [
       "1"
      ]
     },
     "execution_count": 3,
     "metadata": {},
     "output_type": "execute_result"
    }
   ],
   "source": [
    "1"
   ]
  },
  {
   "cell_type": "code",
   "execution_count": 4,
   "id": "8410258c",
   "metadata": {},
   "outputs": [
    {
     "data": {
      "text/plain": [
       "4"
      ]
     },
     "execution_count": 4,
     "metadata": {},
     "output_type": "execute_result"
    }
   ],
   "source": [
    "2+2"
   ]
  },
  {
   "cell_type": "code",
   "execution_count": 5,
   "id": "8db11cf8",
   "metadata": {},
   "outputs": [
    {
     "data": {
      "text/plain": [
       "(100, 0)"
      ]
     },
     "execution_count": 5,
     "metadata": {},
     "output_type": "execute_result"
    }
   ],
   "source": [
    "100,000 # Integers does not understand a comma in whole number. so Here it reads like these 2 different number "
   ]
  },
  {
   "cell_type": "code",
   "execution_count": 10,
   "id": "308bce06",
   "metadata": {},
   "outputs": [
    {
     "name": "stdout",
     "output_type": "stream",
     "text": [
      "<class 'int'>\n"
     ]
    }
   ],
   "source": [
    "print(type(100000))"
   ]
  },
  {
   "cell_type": "code",
   "execution_count": 11,
   "id": "f8797310",
   "metadata": {},
   "outputs": [
    {
     "data": {
      "text/plain": [
       "str"
      ]
     },
     "execution_count": 11,
     "metadata": {},
     "output_type": "execute_result"
    }
   ],
   "source": [
    "# String can be changed into integer but the opposite is not possible\n",
    "\"2\"\n",
    "type(\"2\")"
   ]
  },
  {
   "cell_type": "code",
   "execution_count": 12,
   "id": "e96db2f3",
   "metadata": {},
   "outputs": [
    {
     "data": {
      "text/plain": [
       "2"
      ]
     },
     "execution_count": 12,
     "metadata": {},
     "output_type": "execute_result"
    }
   ],
   "source": [
    "int(\"2\") # changing string number into integer"
   ]
  },
  {
   "cell_type": "code",
   "execution_count": 13,
   "id": "5dae5410",
   "metadata": {},
   "outputs": [
    {
     "data": {
      "text/plain": [
       "'2'"
      ]
     },
     "execution_count": 13,
     "metadata": {},
     "output_type": "execute_result"
    }
   ],
   "source": [
    "str(2) # integers can be turned into string "
   ]
  },
  {
   "cell_type": "markdown",
   "id": "eb5a2b65",
   "metadata": {},
   "source": [
    "# Floats\n",
    "\n",
    "    * simply decimal numbers"
   ]
  },
  {
   "cell_type": "code",
   "execution_count": 15,
   "id": "7e4af850",
   "metadata": {},
   "outputs": [
    {
     "data": {
      "text/plain": [
       "float"
      ]
     },
     "execution_count": 15,
     "metadata": {},
     "output_type": "execute_result"
    }
   ],
   "source": [
    "1.2\n",
    "type(1.2)"
   ]
  },
  {
   "cell_type": "code",
   "execution_count": 16,
   "id": "9b60f1a7",
   "metadata": {},
   "outputs": [
    {
     "data": {
      "text/plain": [
       "float"
      ]
     },
     "execution_count": 16,
     "metadata": {},
     "output_type": "execute_result"
    }
   ],
   "source": [
    "type(2.5)"
   ]
  },
  {
   "cell_type": "code",
   "execution_count": 17,
   "id": "fadd1580",
   "metadata": {},
   "outputs": [
    {
     "data": {
      "text/plain": [
       "2"
      ]
     },
     "execution_count": 17,
     "metadata": {},
     "output_type": "execute_result"
    }
   ],
   "source": [
    "int(2.5) # changing a float into integer "
   ]
  },
  {
   "cell_type": "code",
   "execution_count": 18,
   "id": "0f697abe",
   "metadata": {},
   "outputs": [
    {
     "data": {
      "text/plain": [
       "2.0"
      ]
     },
     "execution_count": 18,
     "metadata": {},
     "output_type": "execute_result"
    }
   ],
   "source": [
    "float(2) # changing an integer into a float"
   ]
  },
  {
   "cell_type": "code",
   "execution_count": 21,
   "id": "dc4d0241",
   "metadata": {},
   "outputs": [
    {
     "data": {
      "text/plain": [
       "(3602879701896397, 18014398509481984)"
      ]
     },
     "execution_count": 21,
     "metadata": {},
     "output_type": "execute_result"
    }
   ],
   "source": [
    "random_float=0.2\n",
    "random_float.as_integer_ratio()"
   ]
  },
  {
   "cell_type": "code",
   "execution_count": 22,
   "id": "982be59c",
   "metadata": {},
   "outputs": [
    {
     "data": {
      "text/plain": [
       "0.2"
      ]
     },
     "execution_count": 22,
     "metadata": {},
     "output_type": "execute_result"
    }
   ],
   "source": [
    "3602879701896397/18014398509481984"
   ]
  },
  {
   "cell_type": "markdown",
   "id": "90f75075",
   "metadata": {},
   "source": [
    "# Booleans\n",
    "\n",
    "    * Booleans values are used for comparison\n",
    "    * They represent the truth value of another value or of an expression\n",
    "    * Boolean values are True and False.\n",
    "    * Any object can be tested for truth value\n",
    "        *Truthy: statements or values that evaluate to True\n",
    "        *Falsy: statements or values that evaluates to False"
   ]
  },
  {
   "cell_type": "code",
   "execution_count": 26,
   "id": "440d795b",
   "metadata": {},
   "outputs": [
    {
     "name": "stdout",
     "output_type": "stream",
     "text": [
      "<class 'bool'>\n"
     ]
    }
   ],
   "source": [
    "print(type(True))"
   ]
  },
  {
   "cell_type": "code",
   "execution_count": 25,
   "id": "d34c3a43",
   "metadata": {},
   "outputs": [
    {
     "name": "stdout",
     "output_type": "stream",
     "text": [
      "<class 'bool'>\n"
     ]
    }
   ],
   "source": [
    "print(type(False))"
   ]
  },
  {
   "cell_type": "code",
   "execution_count": 27,
   "id": "4022a61e",
   "metadata": {},
   "outputs": [
    {
     "data": {
      "text/plain": [
       "False"
      ]
     },
     "execution_count": 27,
     "metadata": {},
     "output_type": "execute_result"
    }
   ],
   "source": [
    "1>2"
   ]
  },
  {
   "cell_type": "code",
   "execution_count": 29,
   "id": "f02421bd",
   "metadata": {},
   "outputs": [
    {
     "name": "stdout",
     "output_type": "stream",
     "text": [
      "<class 'bool'>\n"
     ]
    }
   ],
   "source": [
    "print(type(1>2))"
   ]
  },
  {
   "cell_type": "code",
   "execution_count": 30,
   "id": "2a70d573",
   "metadata": {},
   "outputs": [
    {
     "data": {
      "text/plain": [
       "False"
      ]
     },
     "execution_count": 30,
     "metadata": {},
     "output_type": "execute_result"
    }
   ],
   "source": [
    "bool(0)"
   ]
  },
  {
   "cell_type": "code",
   "execution_count": 31,
   "id": "4b522fc4",
   "metadata": {},
   "outputs": [
    {
     "data": {
      "text/plain": [
       "True"
      ]
     },
     "execution_count": 31,
     "metadata": {},
     "output_type": "execute_result"
    }
   ],
   "source": [
    "bool(1)"
   ]
  },
  {
   "cell_type": "code",
   "execution_count": 32,
   "id": "fc315bf3",
   "metadata": {},
   "outputs": [
    {
     "data": {
      "text/plain": [
       "True"
      ]
     },
     "execution_count": 32,
     "metadata": {},
     "output_type": "execute_result"
    }
   ],
   "source": [
    "# Number that are zero are evaluated to true \n",
    "\n",
    "bool(4)"
   ]
  },
  {
   "cell_type": "code",
   "execution_count": 33,
   "id": "98d5528f",
   "metadata": {},
   "outputs": [
    {
     "data": {
      "text/plain": [
       "True"
      ]
     },
     "execution_count": 33,
     "metadata": {},
     "output_type": "execute_result"
    }
   ],
   "source": [
    "bool(-10)"
   ]
  },
  {
   "cell_type": "code",
   "execution_count": 34,
   "id": "a9fce1b8",
   "metadata": {},
   "outputs": [
    {
     "data": {
      "text/plain": [
       "False"
      ]
     },
     "execution_count": 34,
     "metadata": {},
     "output_type": "execute_result"
    }
   ],
   "source": [
    "bool(\"\") # this is a falsy value"
   ]
  },
  {
   "cell_type": "code",
   "execution_count": 35,
   "id": "ec9c3126",
   "metadata": {},
   "outputs": [
    {
     "data": {
      "text/plain": [
       "True"
      ]
     },
     "execution_count": 35,
     "metadata": {},
     "output_type": "execute_result"
    }
   ],
   "source": [
    "bool(\"hello\") # this is a truth value"
   ]
  },
  {
   "cell_type": "code",
   "execution_count": 38,
   "id": "f4dbad6f",
   "metadata": {},
   "outputs": [
    {
     "data": {
      "text/plain": [
       "1"
      ]
     },
     "execution_count": 38,
     "metadata": {},
     "output_type": "execute_result"
    }
   ],
   "source": [
    "int(True)"
   ]
  },
  {
   "cell_type": "code",
   "execution_count": 39,
   "id": "7629d9fc",
   "metadata": {},
   "outputs": [
    {
     "data": {
      "text/plain": [
       "2"
      ]
     },
     "execution_count": 39,
     "metadata": {},
     "output_type": "execute_result"
    }
   ],
   "source": [
    "1+int(True)"
   ]
  },
  {
   "cell_type": "markdown",
   "id": "75f30ab3",
   "metadata": {},
   "source": [
    "# EXERCISES"
   ]
  },
  {
   "cell_type": "code",
   "execution_count": 22,
   "id": "315028fe",
   "metadata": {},
   "outputs": [
    {
     "data": {
      "text/plain": [
       "str"
      ]
     },
     "execution_count": 22,
     "metadata": {},
     "output_type": "execute_result"
    }
   ],
   "source": [
    "#### STRINGS ###\n",
    "# Enter a valid string\n",
    "type(\"Claudia\")"
   ]
  },
  {
   "cell_type": "code",
   "execution_count": 23,
   "id": "5574516b",
   "metadata": {},
   "outputs": [
    {
     "data": {
      "text/plain": [
       "str"
      ]
     },
     "execution_count": 23,
     "metadata": {},
     "output_type": "execute_result"
    }
   ],
   "source": [
    "# Enter a string using two sets of quotation marks\n",
    "type(\"Hello 'world'\")"
   ]
  },
  {
   "cell_type": "code",
   "execution_count": 16,
   "id": "3c6f554e",
   "metadata": {},
   "outputs": [
    {
     "data": {
      "text/plain": [
       "str"
      ]
     },
     "execution_count": 16,
     "metadata": {},
     "output_type": "execute_result"
    }
   ],
   "source": [
    "# Convert the string '100' to an integer\n",
    "type(\"100\")"
   ]
  },
  {
   "cell_type": "code",
   "execution_count": 17,
   "id": "9a0aea07",
   "metadata": {},
   "outputs": [
    {
     "data": {
      "text/plain": [
       "int"
      ]
     },
     "execution_count": 17,
     "metadata": {},
     "output_type": "execute_result"
    }
   ],
   "source": [
    "type(int(\"100\"))"
   ]
  },
  {
   "cell_type": "code",
   "execution_count": 11,
   "id": "9900d166",
   "metadata": {},
   "outputs": [
    {
     "data": {
      "text/plain": [
       "'hello'"
      ]
     },
     "execution_count": 11,
     "metadata": {},
     "output_type": "execute_result"
    }
   ],
   "source": [
    "# Use a string method to make the string 'HELLO' -> 'hello'\n",
    "'HELLO'.lower()"
   ]
  },
  {
   "cell_type": "code",
   "execution_count": 24,
   "id": "b87dd84f",
   "metadata": {},
   "outputs": [
    {
     "data": {
      "text/plain": [
       "float"
      ]
     },
     "execution_count": 24,
     "metadata": {},
     "output_type": "execute_result"
    }
   ],
   "source": [
    "### FLOATS ###\n",
    "# Enter a float\n",
    "type(5.5)"
   ]
  },
  {
   "cell_type": "code",
   "execution_count": 25,
   "id": "353ef061",
   "metadata": {},
   "outputs": [
    {
     "data": {
      "text/plain": [
       "int"
      ]
     },
     "execution_count": 25,
     "metadata": {},
     "output_type": "execute_result"
    }
   ],
   "source": [
    "# Convert a float to an integer\n",
    "type(int(5.5))"
   ]
  },
  {
   "cell_type": "code",
   "execution_count": 14,
   "id": "36e0426f",
   "metadata": {},
   "outputs": [
    {
     "data": {
      "text/plain": [
       "True"
      ]
     },
     "execution_count": 14,
     "metadata": {},
     "output_type": "execute_result"
    }
   ],
   "source": [
    "### BOOLEANS ###\n",
    "# Test the truth value of the integer -5\n",
    "bool(-5)"
   ]
  },
  {
   "cell_type": "code",
   "execution_count": 20,
   "id": "8fb8ee70",
   "metadata": {},
   "outputs": [
    {
     "name": "stdout",
     "output_type": "stream",
     "text": [
      "1\n",
      "0\n"
     ]
    }
   ],
   "source": [
    "# Convert the boolean values True and False to integer values\n",
    "print(int(True))\n",
    "print(int(False))"
   ]
  },
  {
   "cell_type": "code",
   "execution_count": 21,
   "id": "81650080",
   "metadata": {},
   "outputs": [
    {
     "data": {
      "text/plain": [
       "5"
      ]
     },
     "execution_count": 21,
     "metadata": {},
     "output_type": "execute_result"
    }
   ],
   "source": [
    "# CHALLENGE: What is the value and data type for the expression below\n",
    "int(5.4) + False - True + int(bool('hello'))"
   ]
  },
  {
   "cell_type": "markdown",
   "id": "450a76e7",
   "metadata": {},
   "source": [
    "# BUILT-IN-FUNCTION \n",
    "\n",
    "* are function that exist already in python \n",
    "* E.g: int(); print();type();str();bool()\n",
    "* https://docs.python.org/3.9/library/functions.html"
   ]
  },
  {
   "cell_type": "code",
   "execution_count": 32,
   "id": "80f4e3e2",
   "metadata": {},
   "outputs": [
    {
     "name": "stdout",
     "output_type": "stream",
     "text": [
      "hello world\n",
      "5\n",
      "this file is done running\n"
     ]
    }
   ],
   "source": [
    "print('hello world')\n",
    "input()\n",
    "print(\"this file is done running\")"
   ]
  },
  {
   "cell_type": "code",
   "execution_count": 35,
   "id": "d5f23ec6",
   "metadata": {},
   "outputs": [
    {
     "data": {
      "text/plain": [
       "3.33"
      ]
     },
     "execution_count": 35,
     "metadata": {},
     "output_type": "execute_result"
    }
   ],
   "source": [
    "round(3.33333366666,2)"
   ]
  },
  {
   "cell_type": "code",
   "execution_count": 36,
   "id": "b51baa21",
   "metadata": {},
   "outputs": [
    {
     "data": {
      "text/plain": [
       "8"
      ]
     },
     "execution_count": 36,
     "metadata": {},
     "output_type": "execute_result"
    }
   ],
   "source": [
    "max(4,5,6,7,8,2)"
   ]
  },
  {
   "cell_type": "code",
   "execution_count": 37,
   "id": "3ba27eb8",
   "metadata": {},
   "outputs": [
    {
     "data": {
      "text/plain": [
       "2"
      ]
     },
     "execution_count": 37,
     "metadata": {},
     "output_type": "execute_result"
    }
   ],
   "source": [
    "min(4,5,6,7,8,2)"
   ]
  },
  {
   "cell_type": "code",
   "execution_count": 40,
   "id": "7fde59a2",
   "metadata": {},
   "outputs": [
    {
     "name": "stdout",
     "output_type": "stream",
     "text": [
      "start of file\n",
      "pleaser enter your nameClaudia\n",
      "End of file execution\n"
     ]
    }
   ],
   "source": [
    "print('start of file')\n",
    "input(\"pleaser enter your name\")\n",
    "print(\"End of file execution\")"
   ]
  },
  {
   "cell_type": "code",
   "execution_count": 48,
   "id": "b86756c8",
   "metadata": {},
   "outputs": [],
   "source": [
    "a=round(1.55678,2)"
   ]
  },
  {
   "cell_type": "markdown",
   "id": "8eb6dc01",
   "metadata": {},
   "source": [
    "# Variables & Functions\n",
    "\n",
    "* Varables stores values\n",
    "* Functions stores tasks , actions, or code\n",
    "* Both can be referenced in a file after declaration"
   ]
  },
  {
   "cell_type": "code",
   "execution_count": 3,
   "id": "c873bf28",
   "metadata": {},
   "outputs": [
    {
     "name": "stdout",
     "output_type": "stream",
     "text": [
      "Claudia\n"
     ]
    }
   ],
   "source": [
    "name=\"Claudia\" # Assigning a value to a variable \n",
    "print(name)"
   ]
  },
  {
   "cell_type": "code",
   "execution_count": 5,
   "id": "4f21912d",
   "metadata": {},
   "outputs": [
    {
     "name": "stdout",
     "output_type": "stream",
     "text": [
      "Sally\n"
     ]
    }
   ],
   "source": [
    "name=\"Sally\" # Reassign a variable \n",
    "print(name)"
   ]
  },
  {
   "cell_type": "code",
   "execution_count": 7,
   "id": "02d2a4b2",
   "metadata": {},
   "outputs": [
    {
     "data": {
      "text/plain": [
       "'Sally Claudia'"
      ]
     },
     "execution_count": 7,
     "metadata": {},
     "output_type": "execute_result"
    }
   ],
   "source": [
    "full_name= name+\" Claudia\" # string concat \n",
    "full_name"
   ]
  },
  {
   "cell_type": "code",
   "execution_count": 8,
   "id": "7dcf5a35",
   "metadata": {},
   "outputs": [
    {
     "data": {
      "text/plain": [
       "'Sally'"
      ]
     },
     "execution_count": 8,
     "metadata": {},
     "output_type": "execute_result"
    }
   ],
   "source": [
    "name"
   ]
  },
  {
   "cell_type": "code",
   "execution_count": 16,
   "id": "5f299138",
   "metadata": {},
   "outputs": [],
   "source": [
    "# variable are case sensitive \n",
    "\n",
    "A='pen'\n",
    "a='pencil'"
   ]
  },
  {
   "cell_type": "code",
   "execution_count": 15,
   "id": "6f031119",
   "metadata": {},
   "outputs": [
    {
     "data": {
      "text/plain": [
       "'pen'"
      ]
     },
     "execution_count": 15,
     "metadata": {},
     "output_type": "execute_result"
    }
   ],
   "source": [
    "A"
   ]
  },
  {
   "cell_type": "code",
   "execution_count": 17,
   "id": "15910280",
   "metadata": {},
   "outputs": [
    {
     "data": {
      "text/plain": [
       "'pencil'"
      ]
     },
     "execution_count": 17,
     "metadata": {},
     "output_type": "execute_result"
    }
   ],
   "source": [
    "a"
   ]
  },
  {
   "cell_type": "markdown",
   "id": "c4e6fee4",
   "metadata": {},
   "source": [
    "# variables with operators "
   ]
  },
  {
   "cell_type": "code",
   "execution_count": 22,
   "id": "7c8c46ac",
   "metadata": {},
   "outputs": [
    {
     "data": {
      "text/plain": [
       "4"
      ]
     },
     "execution_count": 22,
     "metadata": {},
     "output_type": "execute_result"
    }
   ],
   "source": [
    "# Math operator\n",
    "2+2"
   ]
  },
  {
   "cell_type": "code",
   "execution_count": 23,
   "id": "dec209d5",
   "metadata": {},
   "outputs": [
    {
     "data": {
      "text/plain": [
       "2.5"
      ]
     },
     "execution_count": 23,
     "metadata": {},
     "output_type": "execute_result"
    }
   ],
   "source": [
    "5/2 #Division"
   ]
  },
  {
   "cell_type": "code",
   "execution_count": 24,
   "id": "9f4bdf28",
   "metadata": {},
   "outputs": [
    {
     "data": {
      "text/plain": [
       "2"
      ]
     },
     "execution_count": 24,
     "metadata": {},
     "output_type": "execute_result"
    }
   ],
   "source": [
    "5//2 # Integer division"
   ]
  },
  {
   "cell_type": "code",
   "execution_count": 25,
   "id": "e945edbe",
   "metadata": {},
   "outputs": [
    {
     "data": {
      "text/plain": [
       "1"
      ]
     },
     "execution_count": 25,
     "metadata": {},
     "output_type": "execute_result"
    }
   ],
   "source": [
    "5%2 # The modulus/remainder gices the left over of a division operation"
   ]
  },
  {
   "cell_type": "code",
   "execution_count": 28,
   "id": "b002badf",
   "metadata": {},
   "outputs": [
    {
     "data": {
      "text/plain": [
       "False"
      ]
     },
     "execution_count": 28,
     "metadata": {},
     "output_type": "execute_result"
    }
   ],
   "source": [
    "# comparison operators \n",
    "2>3"
   ]
  },
  {
   "cell_type": "code",
   "execution_count": 30,
   "id": "a58b3637",
   "metadata": {},
   "outputs": [
    {
     "data": {
      "text/plain": [
       "True"
      ]
     },
     "execution_count": 30,
     "metadata": {},
     "output_type": "execute_result"
    }
   ],
   "source": [
    "2<=3"
   ]
  },
  {
   "cell_type": "code",
   "execution_count": 32,
   "id": "e42da1d2",
   "metadata": {},
   "outputs": [
    {
     "data": {
      "text/plain": [
       "True"
      ]
     },
     "execution_count": 32,
     "metadata": {},
     "output_type": "execute_result"
    }
   ],
   "source": [
    "2==2"
   ]
  },
  {
   "cell_type": "code",
   "execution_count": 34,
   "id": "208b851f",
   "metadata": {},
   "outputs": [
    {
     "data": {
      "text/plain": [
       "True"
      ]
     },
     "execution_count": 34,
     "metadata": {},
     "output_type": "execute_result"
    }
   ],
   "source": [
    "2!=3"
   ]
  },
  {
   "cell_type": "code",
   "execution_count": 48,
   "id": "5201e176",
   "metadata": {},
   "outputs": [
    {
     "name": "stdout",
     "output_type": "stream",
     "text": [
      "False\n"
     ]
    }
   ],
   "source": [
    "small_integer=4\n",
    "large_integer=42\n",
    "repeat_small_integer=3\n",
    "basic_comparison=small_integer>=large_integer\n",
    "print(basic_comparison)"
   ]
  },
  {
   "cell_type": "code",
   "execution_count": 49,
   "id": "a03a2a57",
   "metadata": {},
   "outputs": [
    {
     "name": "stdout",
     "output_type": "stream",
     "text": [
      "10.5\n",
      "10\n",
      "2\n"
     ]
    }
   ],
   "source": [
    "division=large_integer/small_integer\n",
    "integer_division=large_integer//small_integer\n",
    "modulus=large_integer%small_integer\n",
    "print(division)\n",
    "print(integer_division)\n",
    "print(modulus)"
   ]
  },
  {
   "cell_type": "code",
   "execution_count": 47,
   "id": "0dd58a48",
   "metadata": {},
   "outputs": [
    {
     "name": "stdout",
     "output_type": "stream",
     "text": [
      "division answer is 10.75\n",
      "integer_division is 10\n",
      "modulus is 3\n"
     ]
    }
   ],
   "source": [
    "print(f'division answer is {division}')\n",
    "print(f'integer_division is {integer_division}')\n",
    "print(f'modulus is {modulus}')"
   ]
  },
  {
   "cell_type": "code",
   "execution_count": 50,
   "id": "8ac3f633",
   "metadata": {},
   "outputs": [
    {
     "data": {
      "text/plain": [
       "False"
      ]
     },
     "execution_count": 50,
     "metadata": {},
     "output_type": "execute_result"
    }
   ],
   "source": [
    "# python execute tasks line by line \n",
    "round(5**((7+4)/6),3)>=20"
   ]
  },
  {
   "cell_type": "code",
   "execution_count": 60,
   "id": "dbd59d85",
   "metadata": {},
   "outputs": [
    {
     "data": {
      "text/plain": [
       "1.8333333333333333"
      ]
     },
     "execution_count": 60,
     "metadata": {},
     "output_type": "execute_result"
    }
   ],
   "source": [
    "a=(7+4)/6\n",
    "a"
   ]
  },
  {
   "cell_type": "code",
   "execution_count": 61,
   "id": "087c4c63",
   "metadata": {},
   "outputs": [
    {
     "data": {
      "text/plain": [
       "19.118112283293247"
      ]
     },
     "execution_count": 61,
     "metadata": {},
     "output_type": "execute_result"
    }
   ],
   "source": [
    "b=5**a\n",
    "b"
   ]
  },
  {
   "cell_type": "code",
   "execution_count": 59,
   "id": "cfb52608",
   "metadata": {},
   "outputs": [
    {
     "data": {
      "text/plain": [
       "19.118"
      ]
     },
     "execution_count": 59,
     "metadata": {},
     "output_type": "execute_result"
    }
   ],
   "source": [
    "c=round(b,3)\n",
    "c"
   ]
  },
  {
   "cell_type": "code",
   "execution_count": 62,
   "id": "0cd34992",
   "metadata": {},
   "outputs": [
    {
     "data": {
      "text/plain": [
       "False"
      ]
     },
     "execution_count": 62,
     "metadata": {},
     "output_type": "execute_result"
    }
   ],
   "source": [
    "c>=20"
   ]
  },
  {
   "cell_type": "markdown",
   "id": "aa6d6988",
   "metadata": {},
   "source": [
    "# FUNCTIONS\n",
    "\n",
    "* A fucntion definition is executable statement\n",
    "* its exection binds the function name in the current local namespace to a function object\n"
   ]
  },
  {
   "cell_type": "code",
   "execution_count": 63,
   "id": "a2b8ac97",
   "metadata": {},
   "outputs": [],
   "source": [
    "# function with positional argument \n",
    "def add(x,y):\n",
    "    total=x+y #  this is an exectable statement \n",
    "    return total # the function definition does not execute the function body"
   ]
  },
  {
   "cell_type": "code",
   "execution_count": 65,
   "id": "ac6066c9",
   "metadata": {},
   "outputs": [
    {
     "data": {
      "text/plain": [
       "14"
      ]
     },
     "execution_count": 65,
     "metadata": {},
     "output_type": "execute_result"
    }
   ],
   "source": [
    "add(4,10)  # the function gets executed only when it is called"
   ]
  },
  {
   "cell_type": "code",
   "execution_count": 71,
   "id": "39a705de",
   "metadata": {},
   "outputs": [],
   "source": [
    "# function with keyword argument \n",
    "def add(x=0,y=0):\n",
    "    total=x+y #  this is an exectable statement \n",
    "    return total"
   ]
  },
  {
   "cell_type": "code",
   "execution_count": 72,
   "id": "7b14916d",
   "metadata": {},
   "outputs": [
    {
     "data": {
      "text/plain": [
       "2"
      ]
     },
     "execution_count": 72,
     "metadata": {},
     "output_type": "execute_result"
    }
   ],
   "source": [
    "add(2,)"
   ]
  },
  {
   "cell_type": "code",
   "execution_count": 73,
   "id": "c0f74dbf",
   "metadata": {},
   "outputs": [],
   "source": [
    "def add(x,y=0):\n",
    "    total=x+y \n",
    "    return total"
   ]
  },
  {
   "cell_type": "code",
   "execution_count": 76,
   "id": "393ae335",
   "metadata": {},
   "outputs": [
    {
     "data": {
      "text/plain": [
       "11"
      ]
     },
     "execution_count": 76,
     "metadata": {},
     "output_type": "execute_result"
    }
   ],
   "source": [
    "add(5,6)"
   ]
  },
  {
   "cell_type": "code",
   "execution_count": 81,
   "id": "a0ee8a8e",
   "metadata": {},
   "outputs": [],
   "source": [
    "# Nesting function\n",
    "\n",
    "def format_sentence(num):\n",
    "    return f'the number add up to {num}'\n",
    "\n",
    "def add(x,y=0):\n",
    "    total=x+y \n",
    "    return format_sentence(total)"
   ]
  },
  {
   "cell_type": "code",
   "execution_count": 82,
   "id": "3f5af26b",
   "metadata": {},
   "outputs": [
    {
     "data": {
      "text/plain": [
       "'the number add up to 11'"
      ]
     },
     "execution_count": 82,
     "metadata": {},
     "output_type": "execute_result"
    }
   ],
   "source": [
    "add(3,8)"
   ]
  },
  {
   "cell_type": "markdown",
   "id": "5c13321c",
   "metadata": {},
   "source": [
    "# Exercices "
   ]
  },
  {
   "cell_type": "code",
   "execution_count": 30,
   "id": "402ad4b1",
   "metadata": {},
   "outputs": [],
   "source": [
    "# Create YOUR NEW LUCKY NUMBER "
   ]
  },
  {
   "cell_type": "code",
   "execution_count": 4,
   "id": "4e3d7992",
   "metadata": {},
   "outputs": [
    {
     "name": "stdout",
     "output_type": "stream",
     "text": [
      "Please enter your name:Claudia\n"
     ]
    }
   ],
   "source": [
    "# TODO: Save user input name to variable\n",
    "user_name=input(\"Please enter your name:\")"
   ]
  },
  {
   "cell_type": "code",
   "execution_count": 6,
   "id": "3aa6104b",
   "metadata": {},
   "outputs": [
    {
     "data": {
      "text/plain": [
       "'Claudia'"
      ]
     },
     "execution_count": 6,
     "metadata": {},
     "output_type": "execute_result"
    }
   ],
   "source": [
    "user_name"
   ]
  },
  {
   "cell_type": "code",
   "execution_count": 7,
   "id": "dadb2d91",
   "metadata": {},
   "outputs": [
    {
     "name": "stdout",
     "output_type": "stream",
     "text": [
      "Please enter a number: 5\n"
     ]
    },
    {
     "data": {
      "text/plain": [
       "'5'"
      ]
     },
     "execution_count": 7,
     "metadata": {},
     "output_type": "execute_result"
    }
   ],
   "source": [
    "# TODO: Save user input number to variable\n",
    "user_number = input('Please enter a number: ')\n",
    "user_number"
   ]
  },
  {
   "cell_type": "code",
   "execution_count": 9,
   "id": "4f393ced",
   "metadata": {},
   "outputs": [
    {
     "data": {
      "text/plain": [
       "str"
      ]
     },
     "execution_count": 9,
     "metadata": {},
     "output_type": "execute_result"
    }
   ],
   "source": [
    "type(user_number)"
   ]
  },
  {
   "cell_type": "code",
   "execution_count": 10,
   "id": "f47aa553",
   "metadata": {},
   "outputs": [
    {
     "data": {
      "text/plain": [
       "5"
      ]
     },
     "execution_count": 10,
     "metadata": {},
     "output_type": "execute_result"
    }
   ],
   "source": [
    "# TODO: Convert the user number to an integer and reassign the variable\n",
    "user_number=int(user_number)\n",
    "user_number"
   ]
  },
  {
   "cell_type": "code",
   "execution_count": 11,
   "id": "3ef2376a",
   "metadata": {},
   "outputs": [
    {
     "data": {
      "text/plain": [
       "1562"
      ]
     },
     "execution_count": 11,
     "metadata": {},
     "output_type": "execute_result"
    }
   ],
   "source": [
    "# TODO: Perform calculation on user_number using math operator to get the users new lucky number and save to a variable\n",
    "new_lucky_number = user_number**5//2 # here we are using the function de defined above \n",
    "new_lucky_number"
   ]
  },
  {
   "cell_type": "code",
   "execution_count": 13,
   "id": "701d40f2",
   "metadata": {},
   "outputs": [
    {
     "name": "stdout",
     "output_type": "stream",
     "text": [
      "Hello Claudia, your new_lucky_number is 1562\n"
     ]
    }
   ],
   "source": [
    "# TODO: Using an f-string, print the users name and lucky number to console\n",
    "print(f'Hello {user_name}, your new_lucky_number is {new_lucky_number}')"
   ]
  },
  {
   "cell_type": "code",
   "execution_count": 14,
   "id": "76173c59",
   "metadata": {},
   "outputs": [],
   "source": [
    "#TODO: Turn the new lucky number calculation into a function\n",
    "\n",
    "def luck_number(x):\n",
    "    return f'Hello {user_name}, your new lucky number is {x}'\n",
    "\n",
    "def my_new_lucky_number(num):\n",
    "    x=user_number**5//2\n",
    "    return luck_number(x)"
   ]
  },
  {
   "cell_type": "code",
   "execution_count": 15,
   "id": "662b8b2c",
   "metadata": {},
   "outputs": [
    {
     "data": {
      "text/plain": [
       "'Hello Claudia, your new lucky number is 1562'"
      ]
     },
     "execution_count": 15,
     "metadata": {},
     "output_type": "execute_result"
    }
   ],
   "source": [
    "my_new_lucky_number(user_number)"
   ]
  },
  {
   "cell_type": "markdown",
   "id": "94a56d5b",
   "metadata": {},
   "source": [
    "# ERROR & DEBUGGING\n",
    "\n",
    "* Syntax errors due to : \n",
    "    * indentation\n",
    "    * Function definition\n",
    "    * Variable initialization\n",
    "    * Function call\n",
    "    * User of operator \n",
    "    * Name error "
   ]
  },
  {
   "cell_type": "code",
   "execution_count": 16,
   "id": "7c1f78a2",
   "metadata": {},
   "outputs": [
    {
     "ename": "NameError",
     "evalue": "name 'non_existent_variable' is not defined",
     "output_type": "error",
     "traceback": [
      "\u001b[1;31m---------------------------------------------------------------------------\u001b[0m",
      "\u001b[1;31mNameError\u001b[0m                                 Traceback (most recent call last)",
      "Cell \u001b[1;32mIn[16], line 3\u001b[0m\n\u001b[0;32m      1\u001b[0m \u001b[38;5;66;03m# Reading a Stack Trace \u001b[39;00m\n\u001b[1;32m----> 3\u001b[0m \u001b[38;5;28mprint\u001b[39m (\u001b[43mnon_existent_variable\u001b[49m)\n",
      "\u001b[1;31mNameError\u001b[0m: name 'non_existent_variable' is not defined"
     ]
    }
   ],
   "source": [
    "# Reading a Stack Trace \n",
    "\n",
    "print (non_existent_variable)  # here the error is due to the fact that the variable we are trying to  print is not defined.\n",
    "                               # defining the variable \"non_existent_variable\" will solve the problem"
   ]
  },
  {
   "cell_type": "code",
   "execution_count": 19,
   "id": "ba8af588",
   "metadata": {},
   "outputs": [
    {
     "ename": "TypeError",
     "evalue": "can only concatenate str (not \"int\") to str",
     "output_type": "error",
     "traceback": [
      "\u001b[1;31m---------------------------------------------------------------------------\u001b[0m",
      "\u001b[1;31mTypeError\u001b[0m                                 Traceback (most recent call last)",
      "Cell \u001b[1;32mIn[19], line 3\u001b[0m\n\u001b[0;32m      1\u001b[0m \u001b[38;5;28;01mdef\u001b[39;00m \u001b[38;5;21madd_5\u001b[39m(num):\n\u001b[0;32m      2\u001b[0m     \u001b[38;5;28;01mreturn\u001b[39;00m num\u001b[38;5;241m+\u001b[39m\u001b[38;5;241m5\u001b[39m\n\u001b[1;32m----> 3\u001b[0m \u001b[43madd_5\u001b[49m\u001b[43m(\u001b[49m\u001b[38;5;124;43m\"\u001b[39;49m\u001b[38;5;124;43m1\u001b[39;49m\u001b[38;5;124;43m\"\u001b[39;49m\u001b[43m)\u001b[49m\n",
      "Cell \u001b[1;32mIn[19], line 2\u001b[0m, in \u001b[0;36madd_5\u001b[1;34m(num)\u001b[0m\n\u001b[0;32m      1\u001b[0m \u001b[38;5;28;01mdef\u001b[39;00m \u001b[38;5;21madd_5\u001b[39m(num):\n\u001b[1;32m----> 2\u001b[0m     \u001b[38;5;28;01mreturn\u001b[39;00m \u001b[43mnum\u001b[49m\u001b[38;5;241;43m+\u001b[39;49m\u001b[38;5;241;43m5\u001b[39;49m\n",
      "\u001b[1;31mTypeError\u001b[0m: can only concatenate str (not \"int\") to str"
     ]
    }
   ],
   "source": [
    "def add_5(num):\n",
    "    return num+5\n",
    "add_5(\"1\")  # here the error is due to the fact that the variable provided for the function is a string"
   ]
  },
  {
   "cell_type": "code",
   "execution_count": 22,
   "id": "a01017bb",
   "metadata": {},
   "outputs": [
    {
     "name": "stdout",
     "output_type": "stream",
     "text": [
      "<class 'str'>\n"
     ]
    },
    {
     "ename": "TypeError",
     "evalue": "can only concatenate str (not \"int\") to str",
     "output_type": "error",
     "traceback": [
      "\u001b[1;31m---------------------------------------------------------------------------\u001b[0m",
      "\u001b[1;31mTypeError\u001b[0m                                 Traceback (most recent call last)",
      "Cell \u001b[1;32mIn[22], line 6\u001b[0m\n\u001b[0;32m      4\u001b[0m     \u001b[38;5;28mprint\u001b[39m(\u001b[38;5;28mtype\u001b[39m(num))\n\u001b[0;32m      5\u001b[0m     \u001b[38;5;28;01mreturn\u001b[39;00m num\u001b[38;5;241m+\u001b[39m\u001b[38;5;241m5\u001b[39m\n\u001b[1;32m----> 6\u001b[0m \u001b[43madd_5\u001b[49m\u001b[43m(\u001b[49m\u001b[38;5;124;43m\"\u001b[39;49m\u001b[38;5;124;43m1\u001b[39;49m\u001b[38;5;124;43m\"\u001b[39;49m\u001b[43m)\u001b[49m\n",
      "Cell \u001b[1;32mIn[22], line 5\u001b[0m, in \u001b[0;36madd_5\u001b[1;34m(num)\u001b[0m\n\u001b[0;32m      3\u001b[0m \u001b[38;5;28;01mdef\u001b[39;00m \u001b[38;5;21madd_5\u001b[39m(num):\n\u001b[0;32m      4\u001b[0m     \u001b[38;5;28mprint\u001b[39m(\u001b[38;5;28mtype\u001b[39m(num))\n\u001b[1;32m----> 5\u001b[0m     \u001b[38;5;28;01mreturn\u001b[39;00m \u001b[43mnum\u001b[49m\u001b[38;5;241;43m+\u001b[39;49m\u001b[38;5;241;43m5\u001b[39;49m\n",
      "\u001b[1;31mTypeError\u001b[0m: can only concatenate str (not \"int\") to str"
     ]
    }
   ],
   "source": [
    "# Debugging error debugging using print \n",
    "\n",
    "def add_5(num):\n",
    "    # print(type(num)) num should be an integer\n",
    "    return num+5\n",
    "add_5(\"1\")"
   ]
  },
  {
   "cell_type": "code",
   "execution_count": 29,
   "id": "428fbeaa",
   "metadata": {},
   "outputs": [
    {
     "name": "stdout",
     "output_type": "stream",
     "text": [
      "Argument must be an integer please\n"
     ]
    }
   ],
   "source": [
    "# Trying and Except method to give a feedback user on error made \n",
    "\n",
    "def add_5(num):\n",
    "    try:\n",
    "        total=num+5\n",
    "        return total\n",
    "    except TypeError: # defining the type of error expected \n",
    "        print('Argument must be an integer please')\n",
    "        \n",
    "add_5(\"1\") # in this case, if the call of  function is ok, it will return the result \n",
    "            # otherwise, it will print the message provided in print()"
   ]
  },
  {
   "cell_type": "code",
   "execution_count": 30,
   "id": "cbaea574",
   "metadata": {},
   "outputs": [
    {
     "name": "stdout",
     "output_type": "stream",
     "text": [
      "argument must be provided\n"
     ]
    }
   ],
   "source": [
    "def add_5(num):\n",
    "    try:\n",
    "        total=num+5\n",
    "        return total\n",
    "    except TypeError: # defining the type of error expected \n",
    "        print('Argument must be an integer please')\n",
    "        \n",
    "try:\n",
    "    add_5()\n",
    "except TypeError:\n",
    "    print('argument must be provided')"
   ]
  },
  {
   "cell_type": "code",
   "execution_count": null,
   "id": "a95c10d7",
   "metadata": {},
   "outputs": [],
   "source": [
    "def add_5(num):\n",
    "    try:\n",
    "        total=num+5\n",
    "        return total\n",
    "    except TypeError: # defining the type of error expected \n",
    "        print('Argument must be an integer please')\n",
    "        \n",
    "try:\n",
    "    add_5(10)\n",
    "except TypeError:\n",
    "    print('argument must be provided')"
   ]
  },
  {
   "cell_type": "code",
   "execution_count": 22,
   "id": "8838722e",
   "metadata": {},
   "outputs": [],
   "source": [
    "phrase=\"Hello, world\""
   ]
  },
  {
   "cell_type": "code",
   "execution_count": 23,
   "id": "0d47ccc6",
   "metadata": {},
   "outputs": [
    {
     "data": {
      "text/plain": [
       "False"
      ]
     },
     "execution_count": 23,
     "metadata": {},
     "output_type": "execute_result"
    }
   ],
   "source": [
    "phrase is None"
   ]
  },
  {
   "cell_type": "code",
   "execution_count": 24,
   "id": "ed921d21",
   "metadata": {},
   "outputs": [
    {
     "data": {
      "text/plain": [
       "True"
      ]
     },
     "execution_count": 24,
     "metadata": {},
     "output_type": "execute_result"
    }
   ],
   "source": [
    "\"world\" in phrase"
   ]
  },
  {
   "cell_type": "code",
   "execution_count": 25,
   "id": "4e237a51",
   "metadata": {},
   "outputs": [
    {
     "data": {
      "text/plain": [
       "True"
      ]
     },
     "execution_count": 25,
     "metadata": {},
     "output_type": "execute_result"
    }
   ],
   "source": [
    "phrase is not True"
   ]
  },
  {
   "cell_type": "code",
   "execution_count": 26,
   "id": "c6b9bb89",
   "metadata": {},
   "outputs": [],
   "source": [
    "def reassign_var(var):\n",
    "    global phrase\n",
    "    phrase=\"I will be a good data analyst\""
   ]
  },
  {
   "cell_type": "code",
   "execution_count": 29,
   "id": "3732759a",
   "metadata": {},
   "outputs": [
    {
     "name": "stdout",
     "output_type": "stream",
     "text": [
      "None\n"
     ]
    }
   ],
   "source": [
    "print(reassign_var(phrase))"
   ]
  },
  {
   "cell_type": "code",
   "execution_count": 28,
   "id": "e0f6abfa",
   "metadata": {},
   "outputs": [
    {
     "name": "stdout",
     "output_type": "stream",
     "text": [
      "I will be a good data analyst\n"
     ]
    }
   ],
   "source": [
    "print(phrase)"
   ]
  },
  {
   "cell_type": "code",
   "execution_count": null,
   "id": "688666c3",
   "metadata": {},
   "outputs": [],
   "source": []
  }
 ],
 "metadata": {
  "kernelspec": {
   "display_name": "Python 3 (ipykernel)",
   "language": "python",
   "name": "python3"
  },
  "language_info": {
   "codemirror_mode": {
    "name": "ipython",
    "version": 3
   },
   "file_extension": ".py",
   "mimetype": "text/x-python",
   "name": "python",
   "nbconvert_exporter": "python",
   "pygments_lexer": "ipython3",
   "version": "3.9.19"
  }
 },
 "nbformat": 4,
 "nbformat_minor": 5
}
