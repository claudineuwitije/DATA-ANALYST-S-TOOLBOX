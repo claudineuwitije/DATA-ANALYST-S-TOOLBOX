{
 "cells": [
  {
   "cell_type": "markdown",
   "id": "a8d0c575",
   "metadata": {},
   "source": [
    "# BASIC LOGIC STATEMENT \n",
    "\n",
    "* "
   ]
  },
  {
   "cell_type": "code",
   "execution_count": 3,
   "id": "ed36d6b7",
   "metadata": {},
   "outputs": [
    {
     "name": "stdout",
     "output_type": "stream",
     "text": [
      "over-budget and reduce cost\n",
      "reduce cost\n"
     ]
    }
   ],
   "source": [
    "if 500 > 324:\n",
    "    print('over-budget')  # the statement evaluate to true. then execute this.\n",
    "    print('reduce cost') \n",
    "else:\n",
    "    print('within the budget')"
   ]
  },
  {
   "cell_type": "code",
   "execution_count": 7,
   "id": "bec8124f",
   "metadata": {},
   "outputs": [
    {
     "name": "stdout",
     "output_type": "stream",
     "text": [
      "perfect budget\n"
     ]
    }
   ],
   "source": [
    "if 300 > 324:\n",
    "    print('over-budget')\n",
    "    print('reduce cost')                 # the statement evaluate to False. then continue \n",
    "else:\n",
    "    print('within the budget')"
   ]
  },
  {
   "cell_type": "code",
   "execution_count": 9,
   "id": "a826b691",
   "metadata": {},
   "outputs": [
    {
     "name": "stdout",
     "output_type": "stream",
     "text": [
      "review the budget\n",
      "either overestimated or under-estimated\n"
     ]
    }
   ],
   "source": [
    "total_cost=500\n",
    "upper_budget=324\n",
    "lower_budget=250\n",
    "if total_cost> upper_budget or total_cost<lower_budget:\n",
    "    print('review the budget')\n",
    "    print('either overestimated or under-estimated')\n",
    "else:\n",
    "    print('within the budget')"
   ]
  },
  {
   "cell_type": "code",
   "execution_count": 10,
   "id": "0419b4a2",
   "metadata": {},
   "outputs": [
    {
     "name": "stdout",
     "output_type": "stream",
     "text": [
      "review the budget\n",
      "either overestimated or under-estimated\n"
     ]
    }
   ],
   "source": [
    "total_cost=500\n",
    "upper_budget=324\n",
    "lower_budget=250\n",
    "\n",
    "over_estimated=total_cost> upper_budget\n",
    "under_estimated=total_cost<lower_budget\n",
    "\n",
    "if over_estimated or under_estimated: # the readability of the script has improved in this way \n",
    "    print('review the budget')\n",
    "    print('either overestimated or under-estimated')\n",
    "else:\n",
    "    print('within the budget')"
   ]
  },
  {
   "cell_type": "code",
   "execution_count": 11,
   "id": "ff23b3c5",
   "metadata": {},
   "outputs": [
    {
     "name": "stdout",
     "output_type": "stream",
     "text": [
      "budget over-estimated\n"
     ]
    }
   ],
   "source": [
    "total_cost=500\n",
    "upper_budget=324\n",
    "lower_budget=250\n",
    "\n",
    "over_estimated=total_cost> upper_budget\n",
    "under_estimated=total_cost<lower_budget\n",
    "\n",
    "if over_estimated: # the readability of the script has improved in this way \n",
    "    print('budget over-estimated')\n",
    "elif under_estimated:\n",
    "    print('budget under-estimated')\n",
    "else:\n",
    "    print('within the budget')"
   ]
  },
  {
   "cell_type": "code",
   "execution_count": 12,
   "id": "d191f059",
   "metadata": {},
   "outputs": [
    {
     "name": "stdout",
     "output_type": "stream",
     "text": [
      "budget under-estimated\n"
     ]
    }
   ],
   "source": [
    "total_cost=200\n",
    "upper_budget=324\n",
    "lower_budget=250\n",
    "\n",
    "over_estimated=total_cost> upper_budget\n",
    "under_estimated=total_cost<lower_budget\n",
    "\n",
    "if over_estimated: # the readability of the script has improved even better in this way \n",
    "    print('budget over-estimated')\n",
    "elif under_estimated:\n",
    "    print('budget under-estimated')\n",
    "else:\n",
    "    print('within the budget')"
   ]
  },
  {
   "cell_type": "code",
   "execution_count": 15,
   "id": "2b7620db",
   "metadata": {},
   "outputs": [
    {
     "name": "stdout",
     "output_type": "stream",
     "text": [
      "within the budget\n"
     ]
    }
   ],
   "source": [
    "total_cost=320\n",
    "upper_budget=324\n",
    "lower_budget=250\n",
    "\n",
    "over_estimated=total_cost> upper_budget\n",
    "under_estimated=total_cost<lower_budget\n",
    "\n",
    "if over_estimated: # the readability of the script has improved even better in this way \n",
    "    print('budget over-estimated')\n",
    "elif under_estimated:\n",
    "    print('budget under-estimated')\n",
    "else:\n",
    "    print('within the budget')"
   ]
  },
  {
   "cell_type": "code",
   "execution_count": 17,
   "id": "c033df7e",
   "metadata": {},
   "outputs": [
    {
     "name": "stdout",
     "output_type": "stream",
     "text": [
      "woaw!! perfect budget\n"
     ]
    }
   ],
   "source": [
    "total_cost=300\n",
    "upper_budget=324\n",
    "lower_budget=250\n",
    "\n",
    "over_estimated=total_cost> upper_budget\n",
    "under_estimated=total_cost<lower_budget\n",
    "perfect_budget=total_cost==300\n",
    "\n",
    "if over_estimated: # the readability of the script has improved even better in this way \n",
    "    print('budget over-estimated')\n",
    "elif under_estimated:\n",
    "    print('budget under-estimated')\n",
    "elif perfect_budget:\n",
    "    print('woaw!! perfect budget')    \n",
    "else:\n",
    "    print('within the budget')"
   ]
  },
  {
   "cell_type": "code",
   "execution_count": 18,
   "id": "36e1ac80",
   "metadata": {},
   "outputs": [
    {
     "name": "stdout",
     "output_type": "stream",
     "text": [
      "woaw!! perfect budget\n"
     ]
    }
   ],
   "source": [
    "total_cost=300\n",
    "upper_budget=324\n",
    "lower_budget=250\n",
    "\n",
    "over_estimated=total_cost> upper_budget\n",
    "under_estimated=total_cost<lower_budget\n",
    "perfect_budget=total_cost==300\n",
    "\n",
    "if over_estimated: #this script complex and and its readability is confusing. Pay attention on how to write your statement\n",
    "    print('budget over-estimated')\n",
    "elif under_estimated:\n",
    "    print('budget under-estimated')\n",
    "elif perfect_budget:\n",
    "    print('woaw!! perfect budget')    \n",
    "else:                               # we can nest a statement in else statement \n",
    "    perfect_budget=total_cost==300\n",
    "    if perfect_budget:\n",
    "        print('woaw!! perfect budget') \n",
    "    else:\n",
    "        print('within the budget')"
   ]
  },
  {
   "cell_type": "code",
   "execution_count": 19,
   "id": "2a391b0b",
   "metadata": {},
   "outputs": [
    {
     "name": "stdout",
     "output_type": "stream",
     "text": [
      "within the budget\n"
     ]
    }
   ],
   "source": [
    "total_cost=320\n",
    "upper_budget=324\n",
    "lower_budget=250\n",
    "\n",
    "over_estimated=total_cost> upper_budget\n",
    "under_estimated=total_cost<lower_budget\n",
    "perfect_budget=total_cost==300\n",
    "\n",
    "if over_estimated: # this script complex and and its readability is confusing. Pay attention on how to write your statement\n",
    "    print('budget over-estimated')\n",
    "elif under_estimated:\n",
    "    print('budget under-estimated')\n",
    "elif perfect_budget:\n",
    "    print('woaw!! perfect budget')    \n",
    "else:                               # we can nest a statement in else statement \n",
    "    perfect_budget=total_cost==300\n",
    "    if perfect_budget:\n",
    "        print('woaw!! perfect budget') \n",
    "    else:\n",
    "        print('within the budget')"
   ]
  },
  {
   "cell_type": "markdown",
   "id": "6a3f2beb",
   "metadata": {},
   "source": [
    "# Exercises"
   ]
  },
  {
   "cell_type": "code",
   "execution_count": 24,
   "id": "facf8b3f",
   "metadata": {},
   "outputs": [],
   "source": [
    "#TODO: Guess my favorite number\n",
    "favorite_number=5"
   ]
  },
  {
   "cell_type": "code",
   "execution_count": 25,
   "id": "3a34ee97",
   "metadata": {},
   "outputs": [],
   "source": [
    "#TODO:Change the favorite number to what you like\n",
    "favorite_number = 7"
   ]
  },
  {
   "cell_type": "code",
   "execution_count": 41,
   "id": "fda1b835",
   "metadata": {},
   "outputs": [
    {
     "name": "stdout",
     "output_type": "stream",
     "text": [
      "guess my favorite number:8\n",
      "favorite_number_guess = 8\n"
     ]
    }
   ],
   "source": [
    "#TODO: 1. Put a try and except block around the statement below to handle someone entering a value \n",
    "        # that cannot be converted to an integer.\n",
    "try:\n",
    "    favorite_number_guess=(int(input('guess my favorite number:')))\n",
    "    print(f'favorite_number_guess = {favorite_number_guess}')\n",
    "except:\n",
    "    print('Please enter a valid integer.')"
   ]
  },
  {
   "cell_type": "code",
   "execution_count": 42,
   "id": "189ff0f1",
   "metadata": {},
   "outputs": [],
   "source": [
    "#TODO: 2. If  number is greater than the favorite number print 'Guess was too high'\n",
    "     # 3. Else, if the number is lower, print 'Guess is too low.'\n",
    "     # 4. Else print 'You guessed it!'"
   ]
  },
  {
   "cell_type": "code",
   "execution_count": 43,
   "id": "24377e8b",
   "metadata": {},
   "outputs": [
    {
     "name": "stdout",
     "output_type": "stream",
     "text": [
      "Guess was too high\n"
     ]
    }
   ],
   "source": [
    "if  favorite_number_guess>favorite_number:\n",
    "    print('Guess was too high')\n",
    "elif favorite_number_guess<favorite_number:\n",
    "    print('Guess is too low')\n",
    "else:\n",
    "    print('You guessed it!')"
   ]
  },
  {
   "cell_type": "code",
   "execution_count": 45,
   "id": "0dbcc0c2",
   "metadata": {},
   "outputs": [
    {
     "name": "stdout",
     "output_type": "stream",
     "text": [
      "guess my favorite number:5\n",
      "favorite_number_guess=5\n",
      "Guess is too low\n"
     ]
    }
   ],
   "source": [
    "try:\n",
    "    favorite_number_guess=(int(input('guess my favorite number:')))\n",
    "    print(f'favorite_number_guess={favorite_number_guess}')\n",
    "except ValueError:\n",
    "    print('Please enter a valid integer.')\n",
    "\n",
    "if  favorite_number_guess>favorite_number:\n",
    "    print('Guess was too high')\n",
    "elif favorite_number_guess<favorite_number:\n",
    "    print('Guess is too low')\n",
    "else:\n",
    "    print('You guessed it!')"
   ]
  },
  {
   "cell_type": "code",
   "execution_count": 46,
   "id": "06e2ff6e",
   "metadata": {},
   "outputs": [
    {
     "name": "stdout",
     "output_type": "stream",
     "text": [
      "guess my favorite number:7\n",
      "favorite_number_guess=7\n",
      "You guessed it!\n"
     ]
    }
   ],
   "source": [
    "try:\n",
    "    favorite_number_guess=(int(input('guess my favorite number:')))\n",
    "    print(f'favorite_number_guess={favorite_number_guess}')\n",
    "except ValueError:\n",
    "    print('Please enter a valid integer.')\n",
    "\n",
    "if  favorite_number_guess>favorite_number:\n",
    "    print('Guess was too high')\n",
    "elif favorite_number_guess<favorite_number:\n",
    "    print('Guess is too low')\n",
    "else:\n",
    "    print('You guessed it!')"
   ]
  },
  {
   "cell_type": "markdown",
   "id": "bed2479d",
   "metadata": {},
   "source": [
    "# LOOPING: Lists\n",
    "\n",
    "* Looping allows to walk through each of the value in the list and apply common operation to each value.\n",
    "* Looping does not initially change the values of the list, it gives the access to each value of the list"
   ]
  },
  {
   "cell_type": "code",
   "execution_count": 2,
   "id": "13b9a455",
   "metadata": {},
   "outputs": [],
   "source": [
    "colors_list=['blue','red','green','purple']"
   ]
  },
  {
   "cell_type": "code",
   "execution_count": 3,
   "id": "77392676",
   "metadata": {},
   "outputs": [
    {
     "name": "stdout",
     "output_type": "stream",
     "text": [
      "blue\n",
      "red\n",
      "green\n",
      "purple\n"
     ]
    }
   ],
   "source": [
    "# a \"for\" loop\n",
    "for color in colors_list: #  \"for\" +\" value holderName of the list-values\" + \"in\" + \"the List where to find variable\"\n",
    "    print(color) # here loop allows to have a access to each values of the list and print each value"
   ]
  },
  {
   "cell_type": "code",
   "execution_count": 4,
   "id": "b47ffe0b",
   "metadata": {},
   "outputs": [
    {
     "name": "stdout",
     "output_type": "stream",
     "text": [
      "Blue\n",
      "Red\n",
      "Green\n",
      "Purple\n"
     ]
    }
   ],
   "source": [
    "for color in colors_list:\n",
    "    print(color.capitalize()) # this will capitalize each value in the list but does not change the origin list value"
   ]
  },
  {
   "cell_type": "code",
   "execution_count": 5,
   "id": "3e9f2b55",
   "metadata": {},
   "outputs": [
    {
     "data": {
      "text/plain": [
       "range(0, 3)"
      ]
     },
     "execution_count": 5,
     "metadata": {},
     "output_type": "execute_result"
    }
   ],
   "source": [
    "range(3)"
   ]
  },
  {
   "cell_type": "code",
   "execution_count": 6,
   "id": "52771ad3",
   "metadata": {},
   "outputs": [
    {
     "name": "stdout",
     "output_type": "stream",
     "text": [
      "0\n",
      "1\n",
      "2\n"
     ]
    }
   ],
   "source": [
    "for i in range(3):\n",
    "    print(i)"
   ]
  },
  {
   "cell_type": "code",
   "execution_count": 7,
   "id": "17ba989b",
   "metadata": {},
   "outputs": [
    {
     "name": "stdout",
     "output_type": "stream",
     "text": [
      "5\n",
      "6\n",
      "7\n"
     ]
    }
   ],
   "source": [
    "for i in range(5,8): # the first value (5 in this case) in the range is inclusive \n",
    "    print(i)         # while the last value(8 in this case) is exclusive"
   ]
  },
  {
   "cell_type": "code",
   "execution_count": 8,
   "id": "04cb4e79",
   "metadata": {},
   "outputs": [
    {
     "data": {
      "text/plain": [
       "4"
      ]
     },
     "execution_count": 8,
     "metadata": {},
     "output_type": "execute_result"
    }
   ],
   "source": [
    "len(colors_list)"
   ]
  },
  {
   "cell_type": "code",
   "execution_count": 9,
   "id": "4d4962ec",
   "metadata": {},
   "outputs": [
    {
     "name": "stdout",
     "output_type": "stream",
     "text": [
      "0\n",
      "1\n",
      "2\n",
      "3\n"
     ]
    }
   ],
   "source": [
    "for i in range(len(colors_list)):\n",
    "    print(i) # here the loop print the sequence value of the lengh of the list  which represent the index of value in this list"
   ]
  },
  {
   "cell_type": "code",
   "execution_count": 10,
   "id": "c0d67939",
   "metadata": {},
   "outputs": [
    {
     "name": "stdout",
     "output_type": "stream",
     "text": [
      "blue\n",
      "red\n",
      "green\n",
      "purple\n"
     ]
    }
   ],
   "source": [
    "for i in range(len(colors_list)):\n",
    "    print(colors_list[i]) # this access the colors_list value one by one\n",
    "                          # this is the same as access value of the list using index"
   ]
  },
  {
   "cell_type": "code",
   "execution_count": 11,
   "id": "8f9aa287",
   "metadata": {},
   "outputs": [],
   "source": [
    "for i in range(len(colors_list)):\n",
    "    colors_list[i]=\"blue\" # here we have access each element in the list and replace its value with \"blue\""
   ]
  },
  {
   "cell_type": "code",
   "execution_count": 12,
   "id": "b7cd5d3d",
   "metadata": {},
   "outputs": [
    {
     "data": {
      "text/plain": [
       "['blue', 'blue', 'blue', 'blue']"
      ]
     },
     "execution_count": 12,
     "metadata": {},
     "output_type": "execute_result"
    }
   ],
   "source": [
    "colors_list"
   ]
  },
  {
   "cell_type": "code",
   "execution_count": 13,
   "id": "043ff6d3",
   "metadata": {},
   "outputs": [
    {
     "data": {
      "text/plain": [
       "['blue', 'blue', 'blue', 'yellow']"
      ]
     },
     "execution_count": 13,
     "metadata": {},
     "output_type": "execute_result"
    }
   ],
   "source": [
    "for i in range(len(colors_list)):\n",
    "    colors_list[3]=\"yellow\"  # here we have access each element with index 3 and replace its value with \"yellow\"\n",
    "colors_list"
   ]
  },
  {
   "cell_type": "code",
   "execution_count": 14,
   "id": "9f0a4f0d",
   "metadata": {},
   "outputs": [
    {
     "data": {
      "text/plain": [
       "['blue', 'red', 'green', 'purple']"
      ]
     },
     "execution_count": 14,
     "metadata": {},
     "output_type": "execute_result"
    }
   ],
   "source": [
    "for i in range(len(colors_list)):\n",
    "    colors_list[0:]=[\"blue\",\"red\",\"green\",\"purple\"]  # here we are accessing each element with its index and replace its current value value with \"yellow\"\n",
    "colors_list"
   ]
  },
  {
   "cell_type": "code",
   "execution_count": 15,
   "id": "f9bd7421",
   "metadata": {},
   "outputs": [
    {
     "name": "stdout",
     "output_type": "stream",
     "text": [
      "(0, 'blue')\n",
      "(1, 'red')\n",
      "(2, 'green')\n",
      "(3, 'purple')\n"
     ]
    }
   ],
   "source": [
    "for color in enumerate(colors_list): # enumerate return a tuple (index and the value from the list)\n",
    "    print(color)                     # tuple is not mutable : value can not be changed but we acess value using index value"
   ]
  },
  {
   "cell_type": "code",
   "execution_count": 16,
   "id": "5b90f8fc",
   "metadata": {},
   "outputs": [
    {
     "name": "stdout",
     "output_type": "stream",
     "text": [
      "0\n",
      "1\n",
      "2\n",
      "3\n"
     ]
    }
   ],
   "source": [
    "for color in enumerate(colors_list): # enumerate print a tuple and tuple can be access by 0 or 1\n",
    "    print(color[0])                  # 0 will access first element of the tuple which is in this case the index "
   ]
  },
  {
   "cell_type": "code",
   "execution_count": 17,
   "id": "105bf4cb",
   "metadata": {},
   "outputs": [
    {
     "name": "stdout",
     "output_type": "stream",
     "text": [
      "blue\n",
      "red\n",
      "green\n",
      "purple\n"
     ]
    }
   ],
   "source": [
    "for color in enumerate(colors_list): # enumerate print a tuple and tuple can be access by 0 or 1\n",
    "    print(color[1])                  # 1 will access second element of the tuple which is in this case the color "
   ]
  },
  {
   "cell_type": "code",
   "execution_count": 18,
   "id": "2304058c",
   "metadata": {},
   "outputs": [
    {
     "name": "stdout",
     "output_type": "stream",
     "text": [
      "blue\n",
      "red\n",
      "green\n",
      "purple\n"
     ]
    },
    {
     "data": {
      "text/plain": [
       "['blue', 'blue', 'blue', 'blue']"
      ]
     },
     "execution_count": 18,
     "metadata": {},
     "output_type": "execute_result"
    }
   ],
   "source": [
    "for color in enumerate(colors_list):\n",
    "    print(color[1])   # this line is access the second element of tuple\n",
    "    colors_list[color[0]]=\"blue\" # while this one is access the first element of the tuple (which is the index)\n",
    "colors_list                      # and then change its value"
   ]
  },
  {
   "cell_type": "markdown",
   "id": "893eb01d",
   "metadata": {},
   "source": [
    "# while loop\n",
    "\n",
    "* tell python that this statement evaluate to true, so continue to evaluate the following code"
   ]
  },
  {
   "cell_type": "code",
   "execution_count": 19,
   "id": "844b5189",
   "metadata": {},
   "outputs": [
    {
     "data": {
      "text/plain": [
       "['blue', 'blue', 'blue', 'blue']"
      ]
     },
     "execution_count": 19,
     "metadata": {},
     "output_type": "execute_result"
    }
   ],
   "source": [
    "colors_list  "
   ]
  },
  {
   "cell_type": "code",
   "execution_count": null,
   "id": "a9c88f3a",
   "metadata": {},
   "outputs": [],
   "source": [
    "while len(colors_list)>0:\n",
    "    print(len(colors_list)) # if we run this code, it will run forever "
   ]
  },
  {
   "cell_type": "code",
   "execution_count": null,
   "id": "2d2490ec",
   "metadata": {},
   "outputs": [],
   "source": [
    "while len(colors_list)>0:\n",
    "    print(len(colors_list))\n",
    "    print(colors_list[0]) # this also will run forever "
   ]
  },
  {
   "cell_type": "code",
   "execution_count": 23,
   "id": "4ca33504",
   "metadata": {},
   "outputs": [
    {
     "name": "stdout",
     "output_type": "stream",
     "text": [
      "4\n",
      "blue\n",
      "3\n",
      "blue\n",
      "2\n",
      "blue\n",
      "1\n",
      "blue\n"
     ]
    }
   ],
   "source": [
    "while len(colors_list)>0:\n",
    "    print(len(colors_list))\n",
    "    print(colors_list[0])\n",
    "    colors_list.pop()"
   ]
  },
  {
   "cell_type": "markdown",
   "id": "c9dfc8ea",
   "metadata": {},
   "source": [
    "# LOOPING: dictionary "
   ]
  },
  {
   "cell_type": "code",
   "execution_count": 1,
   "id": "dc35dc91",
   "metadata": {},
   "outputs": [],
   "source": [
    "fav_colors={\"Claudia\":\"blue\",\"Clarisse\":\"Red\",\"Bob\":\"white\",\"Tom\":\"green\"}"
   ]
  },
  {
   "cell_type": "code",
   "execution_count": 2,
   "id": "08f0fc71",
   "metadata": {},
   "outputs": [
    {
     "data": {
      "text/plain": [
       "dict_keys(['Claudia', 'Clarisse', 'Bob', 'Tom'])"
      ]
     },
     "execution_count": 2,
     "metadata": {},
     "output_type": "execute_result"
    }
   ],
   "source": [
    "fav_colors.keys()"
   ]
  },
  {
   "cell_type": "code",
   "execution_count": 3,
   "id": "0b1c4712",
   "metadata": {},
   "outputs": [
    {
     "data": {
      "text/plain": [
       "dict_values(['blue', 'Red', 'white', 'green'])"
      ]
     },
     "execution_count": 3,
     "metadata": {},
     "output_type": "execute_result"
    }
   ],
   "source": [
    "fav_colors.values()"
   ]
  },
  {
   "cell_type": "code",
   "execution_count": 4,
   "id": "cdb272f0",
   "metadata": {},
   "outputs": [
    {
     "data": {
      "text/plain": [
       "dict_items([('Claudia', 'blue'), ('Clarisse', 'Red'), ('Bob', 'white'), ('Tom', 'green')])"
      ]
     },
     "execution_count": 4,
     "metadata": {},
     "output_type": "execute_result"
    }
   ],
   "source": [
    "fav_colors.items() # items method returns the key, value pairs of the dictionary as tuples like enumerate in for loops"
   ]
  },
  {
   "cell_type": "code",
   "execution_count": 5,
   "id": "79b177f8",
   "metadata": {},
   "outputs": [
    {
     "name": "stdout",
     "output_type": "stream",
     "text": [
      "blue\n",
      "Red\n",
      "white\n",
      "green\n"
     ]
    }
   ],
   "source": [
    " for value in fav_colors.values():\n",
    "        print(value)"
   ]
  },
  {
   "cell_type": "code",
   "execution_count": 6,
   "id": "0e5573ff",
   "metadata": {},
   "outputs": [
    {
     "name": "stdout",
     "output_type": "stream",
     "text": [
      "Claudia\n",
      "Clarisse\n",
      "Bob\n",
      "Tom\n"
     ]
    }
   ],
   "source": [
    "for key in fav_colors.keys():\n",
    "    print(key)"
   ]
  },
  {
   "cell_type": "code",
   "execution_count": 27,
   "id": "703b2dc4",
   "metadata": {},
   "outputs": [
    {
     "name": "stdout",
     "output_type": "stream",
     "text": [
      "('Claudia', 'blue')\n",
      "('Clarisse', 'Red')\n",
      "('Bob', 'white')\n",
      "('Tom', 'green')\n"
     ]
    }
   ],
   "source": [
    "for item in fav_colors.items():\n",
    "    print(item)"
   ]
  },
  {
   "cell_type": "code",
   "execution_count": 28,
   "id": "7be11f2a",
   "metadata": {},
   "outputs": [
    {
     "name": "stdout",
     "output_type": "stream",
     "text": [
      "blue\n",
      "Red\n",
      "white\n",
      "green\n"
     ]
    }
   ],
   "source": [
    "for item in fav_colors.items():\n",
    "    print(item[1])"
   ]
  },
  {
   "cell_type": "code",
   "execution_count": 29,
   "id": "bbebe63b",
   "metadata": {},
   "outputs": [
    {
     "name": "stdout",
     "output_type": "stream",
     "text": [
      "Claudia\n",
      "Clarisse\n",
      "Bob\n",
      "Tom\n"
     ]
    }
   ],
   "source": [
    "for item in fav_colors.items():\n",
    "    print(item[0])"
   ]
  },
  {
   "cell_type": "code",
   "execution_count": 31,
   "id": "e0a2f59f",
   "metadata": {},
   "outputs": [
    {
     "name": "stdout",
     "output_type": "stream",
     "text": [
      "Claudia\n",
      "blue\n",
      "Clarisse\n",
      "Red\n",
      "Bob\n",
      "white\n",
      "Tom\n",
      "green\n"
     ]
    }
   ],
   "source": [
    "for item in fav_colors.items():\n",
    "    print(item[0])\n",
    "    print(item[1])"
   ]
  },
  {
   "cell_type": "code",
   "execution_count": 41,
   "id": "700336bf",
   "metadata": {},
   "outputs": [],
   "source": [
    "colors_list=['blue','red','green','purple']"
   ]
  },
  {
   "cell_type": "code",
   "execution_count": 42,
   "id": "d909b28a",
   "metadata": {},
   "outputs": [
    {
     "data": {
      "text/plain": [
       "['blue', 'orange', 'green', 'purple']"
      ]
     },
     "execution_count": 42,
     "metadata": {},
     "output_type": "execute_result"
    }
   ],
   "source": [
    "colors_list[1]=\"orange\"\n",
    "colors_list"
   ]
  },
  {
   "cell_type": "code",
   "execution_count": 43,
   "id": "7d01a22f",
   "metadata": {},
   "outputs": [
    {
     "data": {
      "text/plain": [
       "['pink', 'yellow', 'green', 'purple']"
      ]
     },
     "execution_count": 43,
     "metadata": {},
     "output_type": "execute_result"
    }
   ],
   "source": [
    "colors_list[0:2]=[\"pink\",\"yellow\"]\n",
    "colors_list"
   ]
  },
  {
   "cell_type": "code",
   "execution_count": 26,
   "id": "c2223129",
   "metadata": {},
   "outputs": [
    {
     "data": {
      "text/plain": [
       "{'Claudia': 'purple', 'Clarisse': 'Red', 'Bob': 'white', 'Tom': 'green'}"
      ]
     },
     "execution_count": 26,
     "metadata": {},
     "output_type": "execute_result"
    }
   ],
   "source": [
    "fav_colors"
   ]
  },
  {
   "cell_type": "markdown",
   "id": "c8d78347",
   "metadata": {},
   "source": [
    "# Exercices "
   ]
  },
  {
   "cell_type": "code",
   "execution_count": 22,
   "id": "beab086f",
   "metadata": {},
   "outputs": [],
   "source": [
    "ls = ['yellow','blue','green','red']\n",
    "dt = {'Josh': None, 'Kathy': None, 'Joe': None, 'Ashley': None}\n",
    "\n",
    "#TODO:  1. Assign the variables in the list as the dictionary values#"
   ]
  },
  {
   "cell_type": "code",
   "execution_count": 23,
   "id": "f83530a3",
   "metadata": {},
   "outputs": [],
   "source": [
    "for key in dt.keys():\n",
    "    dt[key]=\"fear is just a thought & Thought can be changed\""
   ]
  },
  {
   "cell_type": "code",
   "execution_count": 13,
   "id": "891f3cc3",
   "metadata": {},
   "outputs": [
    {
     "name": "stdout",
     "output_type": "stream",
     "text": [
      "Josh\n",
      "Kathy\n",
      "Joe\n",
      "Ashley\n"
     ]
    }
   ],
   "source": [
    "for key in dt.keys():\n",
    "    print(key)"
   ]
  },
  {
   "cell_type": "code",
   "execution_count": 15,
   "id": "8772ac29",
   "metadata": {},
   "outputs": [
    {
     "name": "stdout",
     "output_type": "stream",
     "text": [
      "0\n",
      "Josh\n",
      "1\n",
      "Kathy\n",
      "2\n",
      "Joe\n",
      "3\n",
      "Ashley\n"
     ]
    }
   ],
   "source": [
    "for key in enumerate (dt.keys()):\n",
    "    print(key[0])\n",
    "    print(key[1])"
   ]
  },
  {
   "cell_type": "code",
   "execution_count": null,
   "id": "3431498f",
   "metadata": {},
   "outputs": [],
   "source": []
  },
  {
   "cell_type": "code",
   "execution_count": 60,
   "id": "eb6ed78e",
   "metadata": {},
   "outputs": [
    {
     "name": "stdout",
     "output_type": "stream",
     "text": [
      "0\n",
      "Josh\n",
      "1\n",
      "Kathy\n",
      "2\n",
      "Joe\n",
      "3\n",
      "Ashley\n"
     ]
    }
   ],
   "source": [
    "for key in enumerate (dt.keys()):\n",
    "    print(key[0])          # index in enumerated list of dt.keys\n",
    "    print(key[1])          # name in enumerated list of dt.keys"
   ]
  },
  {
   "cell_type": "code",
   "execution_count": 19,
   "id": "e566a91b",
   "metadata": {},
   "outputs": [
    {
     "name": "stdout",
     "output_type": "stream",
     "text": [
      "0\n",
      "1\n",
      "2\n",
      "3\n"
     ]
    }
   ],
   "source": [
    "for key in enumerate (dt.keys()):\n",
    "    print(key[0])"
   ]
  },
  {
   "cell_type": "code",
   "execution_count": 28,
   "id": "935b5a4d",
   "metadata": {},
   "outputs": [
    {
     "name": "stdout",
     "output_type": "stream",
     "text": [
      "(0, 'yellow')\n",
      "(1, 'blue')\n",
      "(2, 'green')\n",
      "(3, 'red')\n"
     ]
    }
   ],
   "source": [
    "for indexes in enumerate (ls):\n",
    "    print(indexes)"
   ]
  },
  {
   "cell_type": "code",
   "execution_count": 30,
   "id": "06d3a588",
   "metadata": {},
   "outputs": [
    {
     "name": "stdout",
     "output_type": "stream",
     "text": [
      "0\n",
      "1\n",
      "2\n",
      "3\n"
     ]
    }
   ],
   "source": [
    "for indexes in enumerate (ls):\n",
    "    print(indexes[0])"
   ]
  },
  {
   "cell_type": "code",
   "execution_count": 5,
   "id": "e5dc6536",
   "metadata": {},
   "outputs": [
    {
     "data": {
      "text/plain": [
       "{'Josh': 'yellow', 'Kathy': 'blue', 'Joe': 'green', 'Ashley': 'red'}"
      ]
     },
     "execution_count": 5,
     "metadata": {},
     "output_type": "execute_result"
    }
   ],
   "source": [
    "for key in enumerate (dt.keys()):\n",
    "    dt[key[1]]=ls[key[0]]   # here we have access the name in dt dictionary and assign variable in list ls  \n",
    "dt                          # here we have indexed the value of ls with key[] indeces of in dt.keys"
   ]
  },
  {
   "cell_type": "code",
   "execution_count": null,
   "id": "b93003f6",
   "metadata": {},
   "outputs": [],
   "source": []
  }
 ],
 "metadata": {
  "kernelspec": {
   "display_name": "Python 3 (ipykernel)",
   "language": "python",
   "name": "python3"
  },
  "language_info": {
   "codemirror_mode": {
    "name": "ipython",
    "version": 3
   },
   "file_extension": ".py",
   "mimetype": "text/x-python",
   "name": "python",
   "nbconvert_exporter": "python",
   "pygments_lexer": "ipython3",
   "version": "3.9.19"
  }
 },
 "nbformat": 4,
 "nbformat_minor": 5
}
