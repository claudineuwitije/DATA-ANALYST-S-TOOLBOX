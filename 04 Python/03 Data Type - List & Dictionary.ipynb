{
 "cells": [
  {
   "cell_type": "markdown",
   "id": "74a86fb8",
   "metadata": {},
   "source": [
    "# BASIC DATA TYPE\n",
    "\n",
    "* List (iterator type) : \n",
    "    * uses indices to access elements of the list \n",
    "    * uses brackets []\n",
    "    * data are separeted by commas\n",
    "    * can hold integers, strings, float, booleans, other list as well.\n",
    "    * are mutable (data values or their order can be changed)\n",
    "    * use zero based indexing \n",
    "    * iterable -> value can be accessed one at a time (looping\n",
    "* Dictionary (mapping type) :\n",
    "    * keys are mapped to values\n",
    "    * Keys values pairs\n",
    "    * mutable\n",
    "    * uses curly brackets {}\n",
    "    * {key : value}\n",
    "    * cannot use lists or dictionaries as keys"
   ]
  },
  {
   "cell_type": "markdown",
   "id": "2efa3aae",
   "metadata": {},
   "source": [
    "# LIST "
   ]
  },
  {
   "cell_type": "code",
   "execution_count": 1,
   "id": "9db6a617",
   "metadata": {},
   "outputs": [
    {
     "data": {
      "text/plain": [
       "'Sally'"
      ]
     },
     "execution_count": 1,
     "metadata": {},
     "output_type": "execute_result"
    }
   ],
   "source": [
    "basic_list=[1,2,\"Sally\"]\n",
    "basic_list[2] # access the value of a list using the index "
   ]
  },
  {
   "cell_type": "code",
   "execution_count": 2,
   "id": "ab981e28",
   "metadata": {},
   "outputs": [
    {
     "data": {
      "text/plain": [
       "[1, 3, 'Sally']"
      ]
     },
     "execution_count": 2,
     "metadata": {},
     "output_type": "execute_result"
    }
   ],
   "source": [
    "basic_list[1]=3 # list are mutable. here we are access the value at  index 1 and reassign a value =3\n",
    "basic_list"
   ]
  },
  {
   "cell_type": "code",
   "execution_count": 3,
   "id": "0d9a1a12",
   "metadata": {},
   "outputs": [
    {
     "data": {
      "text/plain": [
       "'Sally'"
      ]
     },
     "execution_count": 3,
     "metadata": {},
     "output_type": "execute_result"
    }
   ],
   "source": [
    "basic_list.pop() # remove the last element of the lsit"
   ]
  },
  {
   "cell_type": "code",
   "execution_count": 4,
   "id": "3bcdef28",
   "metadata": {},
   "outputs": [
    {
     "data": {
      "text/plain": [
       "[1, 3]"
      ]
     },
     "execution_count": 4,
     "metadata": {},
     "output_type": "execute_result"
    }
   ],
   "source": [
    "basic_list # you can see that the lest element has been removed "
   ]
  },
  {
   "cell_type": "code",
   "execution_count": 5,
   "id": "c15f2ee5",
   "metadata": {},
   "outputs": [],
   "source": [
    "basic_list.append(\"Sally\") # adding an element at the end of the list using append method"
   ]
  },
  {
   "cell_type": "code",
   "execution_count": 6,
   "id": "5b6f1371",
   "metadata": {},
   "outputs": [
    {
     "data": {
      "text/plain": [
       "[1, 3, 'Sally']"
      ]
     },
     "execution_count": 6,
     "metadata": {},
     "output_type": "execute_result"
    }
   ],
   "source": [
    "basic_list # now Sally is back to the list"
   ]
  },
  {
   "cell_type": "code",
   "execution_count": 7,
   "id": "691a6328",
   "metadata": {},
   "outputs": [
    {
     "data": {
      "text/plain": [
       "1"
      ]
     },
     "execution_count": 7,
     "metadata": {},
     "output_type": "execute_result"
    }
   ],
   "source": [
    "basic_list.pop(0) # remove the element of the lsit using index"
   ]
  },
  {
   "cell_type": "code",
   "execution_count": 8,
   "id": "59fef062",
   "metadata": {},
   "outputs": [
    {
     "data": {
      "text/plain": [
       "[3, 'Sally']"
      ]
     },
     "execution_count": 8,
     "metadata": {},
     "output_type": "execute_result"
    }
   ],
   "source": [
    "basic_list"
   ]
  },
  {
   "cell_type": "code",
   "execution_count": 9,
   "id": "813bdf18",
   "metadata": {},
   "outputs": [],
   "source": [
    "basic_list[1]=3"
   ]
  },
  {
   "cell_type": "code",
   "execution_count": 11,
   "id": "5f9c11bf",
   "metadata": {},
   "outputs": [],
   "source": [
    "basic_list.append(1)"
   ]
  },
  {
   "cell_type": "code",
   "execution_count": 13,
   "id": "70671fc4",
   "metadata": {},
   "outputs": [
    {
     "data": {
      "text/plain": [
       "[3, 3, 1]"
      ]
     },
     "execution_count": 13,
     "metadata": {},
     "output_type": "execute_result"
    }
   ],
   "source": [
    "basic_list"
   ]
  },
  {
   "cell_type": "code",
   "execution_count": 14,
   "id": "a753d8fe",
   "metadata": {},
   "outputs": [
    {
     "data": {
      "text/plain": [
       "[1, 2, 3]"
      ]
     },
     "execution_count": 14,
     "metadata": {},
     "output_type": "execute_result"
    }
   ],
   "source": [
    "basic_list[0]=1\n",
    "basic_list[1]=2\n",
    "basic_list[2]=3\n",
    "basic_list"
   ]
  },
  {
   "cell_type": "code",
   "execution_count": 17,
   "id": "4084c853",
   "metadata": {},
   "outputs": [
    {
     "data": {
      "text/plain": [
       "[3, 2, 1]"
      ]
     },
     "execution_count": 17,
     "metadata": {},
     "output_type": "execute_result"
    }
   ],
   "source": [
    "basic_list.reverse()\n",
    "basic_list"
   ]
  },
  {
   "cell_type": "code",
   "execution_count": 16,
   "id": "818e8dc5",
   "metadata": {},
   "outputs": [
    {
     "data": {
      "text/plain": [
       "[1, 2, 3]"
      ]
     },
     "execution_count": 16,
     "metadata": {},
     "output_type": "execute_result"
    }
   ],
   "source": [
    "basic_list.sort()\n",
    "basic_list"
   ]
  },
  {
   "cell_type": "code",
   "execution_count": 1,
   "id": "c38c5a18",
   "metadata": {},
   "outputs": [],
   "source": [
    "# slicing a list : having a portion value of the list \n",
    "\n",
    "my_list=[1,2,'chair',['otherlist',4,5]]"
   ]
  },
  {
   "cell_type": "code",
   "execution_count": 3,
   "id": "d22ddc9b",
   "metadata": {},
   "outputs": [
    {
     "data": {
      "text/plain": [
       "[1]"
      ]
     },
     "execution_count": 3,
     "metadata": {},
     "output_type": "execute_result"
    }
   ],
   "source": [
    "my_list[0:1]"
   ]
  },
  {
   "cell_type": "code",
   "execution_count": 4,
   "id": "992b81ec",
   "metadata": {},
   "outputs": [
    {
     "data": {
      "text/plain": [
       "[1, 2]"
      ]
     },
     "execution_count": 4,
     "metadata": {},
     "output_type": "execute_result"
    }
   ],
   "source": [
    "my_list[0:2]"
   ]
  },
  {
   "cell_type": "code",
   "execution_count": 5,
   "id": "08410dce",
   "metadata": {},
   "outputs": [
    {
     "data": {
      "text/plain": [
       "[2]"
      ]
     },
     "execution_count": 5,
     "metadata": {},
     "output_type": "execute_result"
    }
   ],
   "source": [
    "my_list[1:2]"
   ]
  },
  {
   "cell_type": "code",
   "execution_count": 6,
   "id": "470abdaa",
   "metadata": {},
   "outputs": [
    {
     "data": {
      "text/plain": [
       "[2, 'chair', ['otherlist', 4, 5]]"
      ]
     },
     "execution_count": 6,
     "metadata": {},
     "output_type": "execute_result"
    }
   ],
   "source": [
    "my_list[1:]"
   ]
  },
  {
   "cell_type": "code",
   "execution_count": 7,
   "id": "a8236212",
   "metadata": {},
   "outputs": [
    {
     "data": {
      "text/plain": [
       "[1, 2, 'chair']"
      ]
     },
     "execution_count": 7,
     "metadata": {},
     "output_type": "execute_result"
    }
   ],
   "source": [
    "my_list[:-1]"
   ]
  },
  {
   "cell_type": "code",
   "execution_count": 13,
   "id": "4f279adc",
   "metadata": {},
   "outputs": [],
   "source": [
    "my_list=[1,2,3,4,5,6,7,8,9,10]"
   ]
  },
  {
   "cell_type": "code",
   "execution_count": 14,
   "id": "fbf8ea70",
   "metadata": {},
   "outputs": [
    {
     "data": {
      "text/plain": [
       "[3, 4, 5, 6, 7, 8]"
      ]
     },
     "execution_count": 14,
     "metadata": {},
     "output_type": "execute_result"
    }
   ],
   "source": [
    "my_list[2:8]"
   ]
  },
  {
   "cell_type": "code",
   "execution_count": 15,
   "id": "a1255bcb",
   "metadata": {},
   "outputs": [
    {
     "data": {
      "text/plain": [
       "[3, 6]"
      ]
     },
     "execution_count": 15,
     "metadata": {},
     "output_type": "execute_result"
    }
   ],
   "source": [
    "my_list[2:8:3]"
   ]
  },
  {
   "cell_type": "code",
   "execution_count": 16,
   "id": "40d87e75",
   "metadata": {},
   "outputs": [
    {
     "data": {
      "text/plain": [
       "[3, 6, 9]"
      ]
     },
     "execution_count": 16,
     "metadata": {},
     "output_type": "execute_result"
    }
   ],
   "source": [
    "my_list[2:9:3]"
   ]
  },
  {
   "cell_type": "code",
   "execution_count": 17,
   "id": "7af871fa",
   "metadata": {},
   "outputs": [
    {
     "data": {
      "text/plain": [
       "[1, 4, 7]"
      ]
     },
     "execution_count": 17,
     "metadata": {},
     "output_type": "execute_result"
    }
   ],
   "source": [
    "my_list[:9:3]"
   ]
  },
  {
   "cell_type": "code",
   "execution_count": 18,
   "id": "965c3550",
   "metadata": {},
   "outputs": [
    {
     "data": {
      "text/plain": [
       "'la'"
      ]
     },
     "execution_count": 18,
     "metadata": {},
     "output_type": "execute_result"
    }
   ],
   "source": [
    "name='Claudia'\n",
    "name[1:3]"
   ]
  },
  {
   "cell_type": "code",
   "execution_count": 19,
   "id": "df7ccaa8",
   "metadata": {},
   "outputs": [
    {
     "data": {
      "text/plain": [
       "'laudia'"
      ]
     },
     "execution_count": 19,
     "metadata": {},
     "output_type": "execute_result"
    }
   ],
   "source": [
    "name[1:]"
   ]
  },
  {
   "cell_type": "code",
   "execution_count": 20,
   "id": "b9f4ec9c",
   "metadata": {},
   "outputs": [
    {
     "data": {
      "text/plain": [
       "'lui'"
      ]
     },
     "execution_count": 20,
     "metadata": {},
     "output_type": "execute_result"
    }
   ],
   "source": [
    "name[1:7:2]"
   ]
  },
  {
   "cell_type": "markdown",
   "id": "f202adf8",
   "metadata": {},
   "source": [
    "# DICTIONARIES "
   ]
  },
  {
   "cell_type": "code",
   "execution_count": 35,
   "id": "fd7be8c9",
   "metadata": {},
   "outputs": [],
   "source": [
    "dictionary={\"Claudia\":'blue','Clarisse':'red'}"
   ]
  },
  {
   "cell_type": "code",
   "execution_count": 36,
   "id": "e3734df1",
   "metadata": {},
   "outputs": [
    {
     "data": {
      "text/plain": [
       "'blue'"
      ]
     },
     "execution_count": 36,
     "metadata": {},
     "output_type": "execute_result"
    }
   ],
   "source": [
    "dictionary['Claudia']"
   ]
  },
  {
   "cell_type": "code",
   "execution_count": 37,
   "id": "a3ef7b80",
   "metadata": {},
   "outputs": [
    {
     "data": {
      "text/plain": [
       "{'Claudia': 'green', 'Clarisse': 'red'}"
      ]
     },
     "execution_count": 37,
     "metadata": {},
     "output_type": "execute_result"
    }
   ],
   "source": [
    "dictionary['Claudia']='green'\n",
    "dictionary"
   ]
  },
  {
   "cell_type": "code",
   "execution_count": 38,
   "id": "ccc3bc4b",
   "metadata": {},
   "outputs": [
    {
     "data": {
      "text/plain": [
       "{'Claudia': 'green', 'Clarisse': 'red', 'Karen': 'yellow'}"
      ]
     },
     "execution_count": 38,
     "metadata": {},
     "output_type": "execute_result"
    }
   ],
   "source": [
    "dictionary['Karen']='yellow'\n",
    "dictionary"
   ]
  },
  {
   "cell_type": "code",
   "execution_count": 39,
   "id": "3604489a",
   "metadata": {},
   "outputs": [
    {
     "data": {
      "text/plain": [
       "dict_keys(['Claudia', 'Clarisse', 'Karen'])"
      ]
     },
     "execution_count": 39,
     "metadata": {},
     "output_type": "execute_result"
    }
   ],
   "source": [
    "dictionary.keys() # retrieving the key of the dictionary which are returned as a list"
   ]
  },
  {
   "cell_type": "code",
   "execution_count": 40,
   "id": "43c6ee29",
   "metadata": {},
   "outputs": [
    {
     "data": {
      "text/plain": [
       "dict_values(['green', 'red', 'yellow'])"
      ]
     },
     "execution_count": 40,
     "metadata": {},
     "output_type": "execute_result"
    }
   ],
   "source": [
    "dictionary.values()"
   ]
  },
  {
   "cell_type": "code",
   "execution_count": 41,
   "id": "1cfbbfc0",
   "metadata": {},
   "outputs": [
    {
     "data": {
      "text/plain": [
       "3"
      ]
     },
     "execution_count": 41,
     "metadata": {},
     "output_type": "execute_result"
    }
   ],
   "source": [
    "len(dictionary) # count the number of values in the dictionary "
   ]
  },
  {
   "cell_type": "code",
   "execution_count": 42,
   "id": "e7fa0718",
   "metadata": {},
   "outputs": [
    {
     "data": {
      "text/plain": [
       "{'Claudia': 'green', 'Clarisse': 'red', 'Karen': 'yellow'}"
      ]
     },
     "execution_count": 42,
     "metadata": {},
     "output_type": "execute_result"
    }
   ],
   "source": [
    "dictionary"
   ]
  },
  {
   "cell_type": "code",
   "execution_count": 43,
   "id": "59a98706",
   "metadata": {},
   "outputs": [],
   "source": [
    "del dictionary['Claudia']"
   ]
  },
  {
   "cell_type": "code",
   "execution_count": 44,
   "id": "e7bebbff",
   "metadata": {},
   "outputs": [
    {
     "data": {
      "text/plain": [
       "{'Clarisse': 'red', 'Karen': 'yellow'}"
      ]
     },
     "execution_count": 44,
     "metadata": {},
     "output_type": "execute_result"
    }
   ],
   "source": [
    "dictionary"
   ]
  },
  {
   "cell_type": "code",
   "execution_count": 45,
   "id": "c3337c96",
   "metadata": {},
   "outputs": [
    {
     "data": {
      "text/plain": [
       "False"
      ]
     },
     "execution_count": 45,
     "metadata": {},
     "output_type": "execute_result"
    }
   ],
   "source": [
    "\"Claudia\" in dictionary # bcs it has been deleted "
   ]
  },
  {
   "cell_type": "code",
   "execution_count": 49,
   "id": "406d4a39",
   "metadata": {},
   "outputs": [
    {
     "data": {
      "text/plain": [
       "True"
      ]
     },
     "execution_count": 49,
     "metadata": {},
     "output_type": "execute_result"
    }
   ],
   "source": [
    "\"Karen\" in dictionary"
   ]
  },
  {
   "cell_type": "code",
   "execution_count": 50,
   "id": "0e89b92a",
   "metadata": {},
   "outputs": [
    {
     "data": {
      "text/plain": [
       "False"
      ]
     },
     "execution_count": 50,
     "metadata": {},
     "output_type": "execute_result"
    }
   ],
   "source": [
    "\"red\" in dictionary"
   ]
  },
  {
   "cell_type": "code",
   "execution_count": 51,
   "id": "2ac07d37",
   "metadata": {},
   "outputs": [
    {
     "data": {
      "text/plain": [
       "True"
      ]
     },
     "execution_count": 51,
     "metadata": {},
     "output_type": "execute_result"
    }
   ],
   "source": [
    "\"Clarisse\" in dictionary"
   ]
  },
  {
   "cell_type": "code",
   "execution_count": 52,
   "id": "9d9fc827",
   "metadata": {},
   "outputs": [],
   "source": [
    "if \"Clarisse\" in dictionary:\n",
    "    del dictionary['Clarisse']\n",
    "else:\n",
    "    print('not in dictionary')"
   ]
  },
  {
   "cell_type": "code",
   "execution_count": 53,
   "id": "abe30245",
   "metadata": {},
   "outputs": [
    {
     "data": {
      "text/plain": [
       "{'Karen': 'yellow'}"
      ]
     },
     "execution_count": 53,
     "metadata": {},
     "output_type": "execute_result"
    }
   ],
   "source": [
    "dictionary # Clarisse has been deleted "
   ]
  },
  {
   "cell_type": "code",
   "execution_count": 58,
   "id": "f5eafa0e",
   "metadata": {},
   "outputs": [],
   "source": [
    "dictionary['Claudia']= 'blue'\n",
    "dictionary['Clarisse']= 'yellow'"
   ]
  },
  {
   "cell_type": "code",
   "execution_count": 59,
   "id": "dc3a7f31",
   "metadata": {},
   "outputs": [
    {
     "data": {
      "text/plain": [
       "{'Karen': 'yellow', 'Claudia': 'blue', 'Clarisse': 'yellow'}"
      ]
     },
     "execution_count": 59,
     "metadata": {},
     "output_type": "execute_result"
    }
   ],
   "source": [
    "dictionary"
   ]
  },
  {
   "cell_type": "code",
   "execution_count": null,
   "id": "e903c705",
   "metadata": {},
   "outputs": [],
   "source": []
  }
 ],
 "metadata": {
  "kernelspec": {
   "display_name": "Python 3 (ipykernel)",
   "language": "python",
   "name": "python3"
  },
  "language_info": {
   "codemirror_mode": {
    "name": "ipython",
    "version": 3
   },
   "file_extension": ".py",
   "mimetype": "text/x-python",
   "name": "python",
   "nbconvert_exporter": "python",
   "pygments_lexer": "ipython3",
   "version": "3.9.19"
  }
 },
 "nbformat": 4,
 "nbformat_minor": 5
}
