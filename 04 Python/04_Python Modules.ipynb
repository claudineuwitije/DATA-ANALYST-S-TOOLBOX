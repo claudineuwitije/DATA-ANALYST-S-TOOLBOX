{
 "cells": [
  {
   "cell_type": "markdown",
   "id": "8ad2286a",
   "metadata": {},
   "source": [
    "# PYTHON MODULES"
   ]
  },
  {
   "cell_type": "markdown",
   "id": "2231e545",
   "metadata": {},
   "source": [
    "### Standard modules (i.e: random, os, math)\n",
    "\n",
    "### python standard libary reference :\n",
    "    * built in modules \n",
    "### PyPi:\n",
    "    * Packages and Projects by python community \n",
    "    * https://pypi.org/\n",
    "        "
   ]
  },
  {
   "cell_type": "code",
   "execution_count": 15,
   "id": "8c43b801",
   "metadata": {},
   "outputs": [],
   "source": [
    "import datetime as date # datetime module\n",
    "import random           # random module\n",
    "import math "
   ]
  },
  {
   "cell_type": "code",
   "execution_count": 4,
   "id": "0c24aadd",
   "metadata": {},
   "outputs": [
    {
     "data": {
      "text/plain": [
       "datetime.datetime(2024, 7, 29, 11, 33, 42, 900148)"
      ]
     },
     "execution_count": 4,
     "metadata": {},
     "output_type": "execute_result"
    }
   ],
   "source": [
    "date.datetime.today()"
   ]
  },
  {
   "cell_type": "code",
   "execution_count": 6,
   "id": "dd8ddf44",
   "metadata": {},
   "outputs": [
    {
     "data": {
      "text/plain": [
       "datetime.datetime(2024, 7, 29, 11, 34, 9, 882094)"
      ]
     },
     "execution_count": 6,
     "metadata": {},
     "output_type": "execute_result"
    }
   ],
   "source": [
    "now=date.datetime.now()\n",
    "now"
   ]
  },
  {
   "cell_type": "code",
   "execution_count": 7,
   "id": "8df56354",
   "metadata": {},
   "outputs": [],
   "source": [
    "now_late=date.datetime.now()"
   ]
  },
  {
   "cell_type": "code",
   "execution_count": 8,
   "id": "c7555069",
   "metadata": {},
   "outputs": [
    {
     "data": {
      "text/plain": [
       "datetime.timedelta(seconds=20, microseconds=469002)"
      ]
     },
     "execution_count": 8,
     "metadata": {},
     "output_type": "execute_result"
    }
   ],
   "source": [
    "now_late-now"
   ]
  },
  {
   "cell_type": "code",
   "execution_count": 10,
   "id": "db7b6ffe",
   "metadata": {},
   "outputs": [
    {
     "data": {
      "text/plain": [
       "datetime.datetime(2024, 7, 29, 11, 35, 18, 311156)"
      ]
     },
     "execution_count": 10,
     "metadata": {},
     "output_type": "execute_result"
    }
   ],
   "source": [
    "date.datetime.now()"
   ]
  },
  {
   "cell_type": "code",
   "execution_count": 19,
   "id": "7107eff6",
   "metadata": {},
   "outputs": [
    {
     "data": {
      "text/plain": [
       "2"
      ]
     },
     "execution_count": 19,
     "metadata": {},
     "output_type": "execute_result"
    }
   ],
   "source": [
    "# Random modules\n",
    "\n",
    "random.randint(2,10)"
   ]
  },
  {
   "cell_type": "code",
   "execution_count": 22,
   "id": "8aca4b6f",
   "metadata": {},
   "outputs": [
    {
     "data": {
      "text/plain": [
       "0.30172335482484025"
      ]
     },
     "execution_count": 22,
     "metadata": {},
     "output_type": "execute_result"
    }
   ],
   "source": [
    "random.random()"
   ]
  },
  {
   "cell_type": "code",
   "execution_count": 21,
   "id": "42d47d56",
   "metadata": {},
   "outputs": [
    {
     "data": {
      "text/plain": [
       "'butterfly'"
      ]
     },
     "execution_count": 21,
     "metadata": {},
     "output_type": "execute_result"
    }
   ],
   "source": [
    "random.choice(['cat','dog','bird','butterfly'])"
   ]
  },
  {
   "cell_type": "code",
   "execution_count": 23,
   "id": "1fdbb1de",
   "metadata": {},
   "outputs": [
    {
     "data": {
      "text/plain": [
       "3.141592653589793"
      ]
     },
     "execution_count": 23,
     "metadata": {},
     "output_type": "execute_result"
    }
   ],
   "source": [
    "# Math modules \n",
    "\n",
    "math.pi"
   ]
  },
  {
   "cell_type": "code",
   "execution_count": 26,
   "id": "d5a6f260",
   "metadata": {},
   "outputs": [
    {
     "data": {
      "text/plain": [
       "32.0"
      ]
     },
     "execution_count": 26,
     "metadata": {},
     "output_type": "execute_result"
    }
   ],
   "source": [
    "math.pow(2,5)"
   ]
  },
  {
   "cell_type": "code",
   "execution_count": 27,
   "id": "f28a6fb0",
   "metadata": {},
   "outputs": [
    {
     "data": {
      "text/plain": [
       "32"
      ]
     },
     "execution_count": 27,
     "metadata": {},
     "output_type": "execute_result"
    }
   ],
   "source": [
    "2**5"
   ]
  },
  {
   "cell_type": "code",
   "execution_count": 29,
   "id": "910c10e7",
   "metadata": {},
   "outputs": [
    {
     "data": {
      "text/plain": [
       "120"
      ]
     },
     "execution_count": 29,
     "metadata": {},
     "output_type": "execute_result"
    }
   ],
   "source": [
    "math.factorial(5)"
   ]
  },
  {
   "cell_type": "code",
   "execution_count": 31,
   "id": "024e3207",
   "metadata": {},
   "outputs": [
    {
     "data": {
      "text/plain": [
       "0.9358848549088532"
      ]
     },
     "execution_count": 31,
     "metadata": {},
     "output_type": "execute_result"
    }
   ],
   "source": [
    "# Python key words to use to import or to use in a file\n",
    "import random as rand \n",
    "rand.random()"
   ]
  },
  {
   "cell_type": "code",
   "execution_count": 34,
   "id": "401737c3",
   "metadata": {},
   "outputs": [],
   "source": [
    "from random import random as rand"
   ]
  },
  {
   "cell_type": "code",
   "execution_count": 35,
   "id": "667b2d40",
   "metadata": {},
   "outputs": [
    {
     "data": {
      "text/plain": [
       "0.22441241457478345"
      ]
     },
     "execution_count": 35,
     "metadata": {},
     "output_type": "execute_result"
    }
   ],
   "source": [
    "rand()"
   ]
  },
  {
   "cell_type": "code",
   "execution_count": 41,
   "id": "8b726558",
   "metadata": {},
   "outputs": [
    {
     "data": {
      "text/plain": [
       "2024"
      ]
     },
     "execution_count": 41,
     "metadata": {},
     "output_type": "execute_result"
    }
   ],
   "source": [
    "from datetime import datetime as dt\n",
    "dt.now().year"
   ]
  },
  {
   "cell_type": "code",
   "execution_count": 42,
   "id": "2d1702f3",
   "metadata": {},
   "outputs": [
    {
     "data": {
      "text/plain": [
       "7"
      ]
     },
     "execution_count": 42,
     "metadata": {},
     "output_type": "execute_result"
    }
   ],
   "source": [
    "dt.now().month"
   ]
  },
  {
   "cell_type": "markdown",
   "id": "efb06afb",
   "metadata": {},
   "source": [
    "# Python Environments \n",
    "\n",
    "* Installation\n",
    "* Commandas\n",
    "* Python Path\n",
    "* Modules and virtual environments"
   ]
  },
  {
   "cell_type": "markdown",
   "id": "7c44731b",
   "metadata": {},
   "source": [
    "# IDEs\n",
    "\n",
    "* IDE stand for Integrated development Environment \n",
    "* IDEs consistent of at least a source code editor, built automation tools, and debugging tools\n",
    "    * Extensions /plugins\n",
    "    * linting tools (help to find error automatically)\n",
    "    * code highliting \n",
    "    * code completion/ intelligence \n",
    "* Examples of IDES \n",
    "    * IDLE (Integrated Development and learning environment)\n",
    "    * Sublime Text\n",
    "    * Atom\n",
    "    * Visual Studio/ Visual Studio code \n",
    "    * PyCharm(full-featured dedicated IDE for python"
   ]
  },
  {
   "cell_type": "code",
   "execution_count": null,
   "id": "8798b50e",
   "metadata": {},
   "outputs": [],
   "source": []
  }
 ],
 "metadata": {
  "kernelspec": {
   "display_name": "Python 3 (ipykernel)",
   "language": "python",
   "name": "python3"
  },
  "language_info": {
   "codemirror_mode": {
    "name": "ipython",
    "version": 3
   },
   "file_extension": ".py",
   "mimetype": "text/x-python",
   "name": "python",
   "nbconvert_exporter": "python",
   "pygments_lexer": "ipython3",
   "version": "3.9.19"
  }
 },
 "nbformat": 4,
 "nbformat_minor": 5
}
